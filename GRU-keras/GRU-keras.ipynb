{
 "cells": [
  {
   "cell_type": "code",
   "execution_count": 1,
   "id": "6cbf3ac4",
   "metadata": {},
   "outputs": [
    {
     "name": "stderr",
     "output_type": "stream",
     "text": [
      "/var/folders/94/18sqr3292qj66m2k622fh4580000gn/T/ipykernel_18393/3920941329.py:5: FutureWarning: YF.download() has changed argument auto_adjust default to True\n",
      "  data = yf.download('NVDA', start='2015-01-01', end='2025-10-01', interval='1d')\n",
      "[*********************100%***********************]  1 of 1 completed\n"
     ]
    }
   ],
   "source": [
    "import yfinance as yf\n",
    "import pandas as pd\n",
    "\n",
    "# Download NVIDA stock data from Yahoo Finance\n",
    "data = yf.download('NVDA', start='2015-01-01', end='2025-10-01', interval='1d')"
   ]
  },
  {
   "cell_type": "code",
   "execution_count": 2,
   "id": "96a07188",
   "metadata": {},
   "outputs": [
    {
     "data": {
      "text/html": [
       "<div>\n",
       "<style scoped>\n",
       "    .dataframe tbody tr th:only-of-type {\n",
       "        vertical-align: middle;\n",
       "    }\n",
       "\n",
       "    .dataframe tbody tr th {\n",
       "        vertical-align: top;\n",
       "    }\n",
       "\n",
       "    .dataframe thead th {\n",
       "        text-align: right;\n",
       "    }\n",
       "</style>\n",
       "<table border=\"1\" class=\"dataframe\">\n",
       "  <thead>\n",
       "    <tr style=\"text-align: right;\">\n",
       "      <th></th>\n",
       "      <th>Date</th>\n",
       "      <th>Close</th>\n",
       "      <th>High</th>\n",
       "      <th>Low</th>\n",
       "      <th>Open</th>\n",
       "      <th>Volume</th>\n",
       "    </tr>\n",
       "  </thead>\n",
       "  <tbody>\n",
       "    <tr>\n",
       "      <th>0</th>\n",
       "      <td>2015-01-02</td>\n",
       "      <td>0.483038</td>\n",
       "      <td>0.486638</td>\n",
       "      <td>0.475359</td>\n",
       "      <td>0.483038</td>\n",
       "      <td>113680000.0</td>\n",
       "    </tr>\n",
       "    <tr>\n",
       "      <th>1</th>\n",
       "      <td>2015-01-05</td>\n",
       "      <td>0.474880</td>\n",
       "      <td>0.484478</td>\n",
       "      <td>0.472720</td>\n",
       "      <td>0.483038</td>\n",
       "      <td>197952000.0</td>\n",
       "    </tr>\n",
       "    <tr>\n",
       "      <th>2</th>\n",
       "      <td>2015-01-06</td>\n",
       "      <td>0.460482</td>\n",
       "      <td>0.476080</td>\n",
       "      <td>0.460002</td>\n",
       "      <td>0.475600</td>\n",
       "      <td>197764000.0</td>\n",
       "    </tr>\n",
       "    <tr>\n",
       "      <th>3</th>\n",
       "      <td>2015-01-07</td>\n",
       "      <td>0.459282</td>\n",
       "      <td>0.467921</td>\n",
       "      <td>0.457843</td>\n",
       "      <td>0.463841</td>\n",
       "      <td>321808000.0</td>\n",
       "    </tr>\n",
       "    <tr>\n",
       "      <th>4</th>\n",
       "      <td>2015-01-08</td>\n",
       "      <td>0.476559</td>\n",
       "      <td>0.479439</td>\n",
       "      <td>0.464322</td>\n",
       "      <td>0.464561</td>\n",
       "      <td>283780000.0</td>\n",
       "    </tr>\n",
       "    <tr>\n",
       "      <th>...</th>\n",
       "      <td>...</td>\n",
       "      <td>...</td>\n",
       "      <td>...</td>\n",
       "      <td>...</td>\n",
       "      <td>...</td>\n",
       "      <td>...</td>\n",
       "    </tr>\n",
       "    <tr>\n",
       "      <th>2697</th>\n",
       "      <td>2025-09-24</td>\n",
       "      <td>176.970001</td>\n",
       "      <td>179.779999</td>\n",
       "      <td>175.399994</td>\n",
       "      <td>179.770004</td>\n",
       "      <td>143564100.0</td>\n",
       "    </tr>\n",
       "    <tr>\n",
       "      <th>2698</th>\n",
       "      <td>2025-09-25</td>\n",
       "      <td>177.690002</td>\n",
       "      <td>180.259995</td>\n",
       "      <td>173.130005</td>\n",
       "      <td>174.479996</td>\n",
       "      <td>191586700.0</td>\n",
       "    </tr>\n",
       "    <tr>\n",
       "      <th>2699</th>\n",
       "      <td>2025-09-26</td>\n",
       "      <td>178.190002</td>\n",
       "      <td>179.770004</td>\n",
       "      <td>174.929993</td>\n",
       "      <td>178.169998</td>\n",
       "      <td>148573700.0</td>\n",
       "    </tr>\n",
       "    <tr>\n",
       "      <th>2700</th>\n",
       "      <td>2025-09-29</td>\n",
       "      <td>181.850006</td>\n",
       "      <td>184.000000</td>\n",
       "      <td>180.320007</td>\n",
       "      <td>180.429993</td>\n",
       "      <td>193063500.0</td>\n",
       "    </tr>\n",
       "    <tr>\n",
       "      <th>2701</th>\n",
       "      <td>2025-09-30</td>\n",
       "      <td>186.580002</td>\n",
       "      <td>187.350006</td>\n",
       "      <td>181.479996</td>\n",
       "      <td>182.080002</td>\n",
       "      <td>236981000.0</td>\n",
       "    </tr>\n",
       "  </tbody>\n",
       "</table>\n",
       "<p>2702 rows × 6 columns</p>\n",
       "</div>"
      ],
      "text/plain": [
       "           Date       Close        High         Low        Open       Volume\n",
       "0    2015-01-02    0.483038    0.486638    0.475359    0.483038  113680000.0\n",
       "1    2015-01-05    0.474880    0.484478    0.472720    0.483038  197952000.0\n",
       "2    2015-01-06    0.460482    0.476080    0.460002    0.475600  197764000.0\n",
       "3    2015-01-07    0.459282    0.467921    0.457843    0.463841  321808000.0\n",
       "4    2015-01-08    0.476559    0.479439    0.464322    0.464561  283780000.0\n",
       "...         ...         ...         ...         ...         ...          ...\n",
       "2697 2025-09-24  176.970001  179.779999  175.399994  179.770004  143564100.0\n",
       "2698 2025-09-25  177.690002  180.259995  173.130005  174.479996  191586700.0\n",
       "2699 2025-09-26  178.190002  179.770004  174.929993  178.169998  148573700.0\n",
       "2700 2025-09-29  181.850006  184.000000  180.320007  180.429993  193063500.0\n",
       "2701 2025-09-30  186.580002  187.350006  181.479996  182.080002  236981000.0\n",
       "\n",
       "[2702 rows x 6 columns]"
      ]
     },
     "execution_count": 2,
     "metadata": {},
     "output_type": "execute_result"
    }
   ],
   "source": [
    "df = pd.DataFrame(data=data.values, columns=['Close', 'High', 'Low', 'Open', 'Volume'])\n",
    "df.insert(0, 'Date', data.index)\n",
    "df"
   ]
  },
  {
   "cell_type": "code",
   "execution_count": 3,
   "id": "f242716c",
   "metadata": {},
   "outputs": [],
   "source": [
    "import numpy as np\n",
    "from tensorflow.keras.models import Sequential\n",
    "from tensorflow.keras.layers import GRU, Dense, Dropout\n",
    "\n",
    "from sklearn.preprocessing import StandardScaler\n",
    "import matplotlib.pyplot as plt\n",
    "import seaborn as sns"
   ]
  },
  {
   "cell_type": "markdown",
   "id": "5d05a1d0",
   "metadata": {},
   "source": [
    "Prepare the stock data for GRU by converting dates to proper datetime format and scaling numerical features. Scaling is important because GRU models perform better when input values are normalized.\n"
   ]
  },
  {
   "cell_type": "code",
   "execution_count": 4,
   "id": "1686355d",
   "metadata": {},
   "outputs": [],
   "source": [
    "train_dates = pd.to_datetime(df['Date'])\n",
    "\n",
    "train_cols = ['Close', 'High', 'Low', 'Open', 'Volume']\n",
    "\n",
    "scaler = StandardScaler()\n",
    "scaler = scaler.fit(df[train_cols]) # we need this for inverse transform later\n",
    "df_scaled = scaler.transform(df[train_cols])"
   ]
  },
  {
   "cell_type": "markdown",
   "id": "b5fd65b8",
   "metadata": {},
   "source": [
    "Prepare the input (`X_train`) and output (`y_train`) for the GRU model.\n",
    "\n",
    "- `n_past` defines how many past days the model will use to make a prediction.\n",
    "- `n_features` represents the number of days we want to predict into the future.\n"
   ]
  },
  {
   "cell_type": "code",
   "execution_count": 5,
   "id": "6bfe9183",
   "metadata": {},
   "outputs": [],
   "source": [
    "X_train = []\n",
    "y_train = []\n",
    "n_features = 1\n",
    "n_past = 14"
   ]
  },
  {
   "cell_type": "markdown",
   "id": "03c75b9f",
   "metadata": {},
   "source": [
    "Reformat the data to make it suitable for the input:\n",
    "\n",
    "- GRU expects input in the shape **(samples, timesteps, features)**.\n",
    "- For each step, we take the past `n_past` days as input (`X_train`) and predict the future `n_features` day(s) of the 'Open' price (`y_train`).\n"
   ]
  },
  {
   "cell_type": "code",
   "execution_count": 6,
   "id": "72c82080",
   "metadata": {},
   "outputs": [],
   "source": [
    "for i in range(n_past, len(df_scaled) - n_features + 1):\n",
    "    X_train.append(df_scaled[i - n_past:i, 0: df_scaled.shape[1]])\n",
    "    y_train.append(df_scaled[i + n_features - 1:i + n_features, 3])  # Predicting 'Open' price"
   ]
  },
  {
   "cell_type": "code",
   "execution_count": 7,
   "id": "5d8667cb",
   "metadata": {},
   "outputs": [
    {
     "name": "stdout",
     "output_type": "stream",
     "text": [
      "(2688, 14, 5) (2688, 1)\n"
     ]
    }
   ],
   "source": [
    "X_train, y_train = np.array(X_train), np.array(y_train)\n",
    "print(X_train.shape, y_train.shape)"
   ]
  },
  {
   "cell_type": "markdown",
   "id": "4129bb55",
   "metadata": {},
   "source": [
    "Define an GRU autoencoder model for time series prediction:\n",
    "\n",
    "- The model is built using **Keras Sequential API**.\n",
    "- **First GRU layer**: 64 units, `tanh` activation, returns sequences for the next GRU layer.\n",
    "- **Second GRU layer**: 32 units, outputs the final hidden state.\n",
    "- **Dropout layer**: Prevents overfitting by randomly ignoring 20% of neurons during training.\n",
    "- **Dense layer**: Outputs the predicted value(s) of the 'Open' price.\n",
    "- **Compile**: Using `adam` optimizer and mean squared error (`mse`) loss function.\n",
    "- `model.summary()` prints the architecture and number of parameters.\n"
   ]
  },
  {
   "cell_type": "code",
   "execution_count": 8,
   "id": "108a91ed",
   "metadata": {},
   "outputs": [
    {
     "name": "stderr",
     "output_type": "stream",
     "text": [
      "/opt/anaconda3/lib/python3.11/site-packages/keras/src/layers/rnn/rnn.py:204: UserWarning: Do not pass an `input_shape`/`input_dim` argument to a layer. When using Sequential models, prefer using an `Input(shape)` object as the first layer in the model instead.\n",
      "  super().__init__(**kwargs)\n"
     ]
    },
    {
     "data": {
      "text/html": [
       "<pre style=\"white-space:pre;overflow-x:auto;line-height:normal;font-family:Menlo,'DejaVu Sans Mono',consolas,'Courier New',monospace\"><span style=\"font-weight: bold\">Model: \"sequential\"</span>\n",
       "</pre>\n"
      ],
      "text/plain": [
       "\u001b[1mModel: \"sequential\"\u001b[0m\n"
      ]
     },
     "metadata": {},
     "output_type": "display_data"
    },
    {
     "data": {
      "text/html": [
       "<pre style=\"white-space:pre;overflow-x:auto;line-height:normal;font-family:Menlo,'DejaVu Sans Mono',consolas,'Courier New',monospace\">┏━━━━━━━━━━━━━━━━━━━━━━━━━━━━━━━━━┳━━━━━━━━━━━━━━━━━━━━━━━━┳━━━━━━━━━━━━━━━┓\n",
       "┃<span style=\"font-weight: bold\"> Layer (type)                    </span>┃<span style=\"font-weight: bold\"> Output Shape           </span>┃<span style=\"font-weight: bold\">       Param # </span>┃\n",
       "┡━━━━━━━━━━━━━━━━━━━━━━━━━━━━━━━━━╇━━━━━━━━━━━━━━━━━━━━━━━━╇━━━━━━━━━━━━━━━┩\n",
       "│ gru (<span style=\"color: #0087ff; text-decoration-color: #0087ff\">GRU</span>)                       │ (<span style=\"color: #00d7ff; text-decoration-color: #00d7ff\">None</span>, <span style=\"color: #00af00; text-decoration-color: #00af00\">14</span>, <span style=\"color: #00af00; text-decoration-color: #00af00\">64</span>)         │        <span style=\"color: #00af00; text-decoration-color: #00af00\">13,632</span> │\n",
       "├─────────────────────────────────┼────────────────────────┼───────────────┤\n",
       "│ gru_1 (<span style=\"color: #0087ff; text-decoration-color: #0087ff\">GRU</span>)                     │ (<span style=\"color: #00d7ff; text-decoration-color: #00d7ff\">None</span>, <span style=\"color: #00af00; text-decoration-color: #00af00\">32</span>)             │         <span style=\"color: #00af00; text-decoration-color: #00af00\">9,408</span> │\n",
       "├─────────────────────────────────┼────────────────────────┼───────────────┤\n",
       "│ dropout (<span style=\"color: #0087ff; text-decoration-color: #0087ff\">Dropout</span>)               │ (<span style=\"color: #00d7ff; text-decoration-color: #00d7ff\">None</span>, <span style=\"color: #00af00; text-decoration-color: #00af00\">32</span>)             │             <span style=\"color: #00af00; text-decoration-color: #00af00\">0</span> │\n",
       "├─────────────────────────────────┼────────────────────────┼───────────────┤\n",
       "│ dense (<span style=\"color: #0087ff; text-decoration-color: #0087ff\">Dense</span>)                   │ (<span style=\"color: #00d7ff; text-decoration-color: #00d7ff\">None</span>, <span style=\"color: #00af00; text-decoration-color: #00af00\">1</span>)              │            <span style=\"color: #00af00; text-decoration-color: #00af00\">33</span> │\n",
       "└─────────────────────────────────┴────────────────────────┴───────────────┘\n",
       "</pre>\n"
      ],
      "text/plain": [
       "┏━━━━━━━━━━━━━━━━━━━━━━━━━━━━━━━━━┳━━━━━━━━━━━━━━━━━━━━━━━━┳━━━━━━━━━━━━━━━┓\n",
       "┃\u001b[1m \u001b[0m\u001b[1mLayer (type)                   \u001b[0m\u001b[1m \u001b[0m┃\u001b[1m \u001b[0m\u001b[1mOutput Shape          \u001b[0m\u001b[1m \u001b[0m┃\u001b[1m \u001b[0m\u001b[1m      Param #\u001b[0m\u001b[1m \u001b[0m┃\n",
       "┡━━━━━━━━━━━━━━━━━━━━━━━━━━━━━━━━━╇━━━━━━━━━━━━━━━━━━━━━━━━╇━━━━━━━━━━━━━━━┩\n",
       "│ gru (\u001b[38;5;33mGRU\u001b[0m)                       │ (\u001b[38;5;45mNone\u001b[0m, \u001b[38;5;34m14\u001b[0m, \u001b[38;5;34m64\u001b[0m)         │        \u001b[38;5;34m13,632\u001b[0m │\n",
       "├─────────────────────────────────┼────────────────────────┼───────────────┤\n",
       "│ gru_1 (\u001b[38;5;33mGRU\u001b[0m)                     │ (\u001b[38;5;45mNone\u001b[0m, \u001b[38;5;34m32\u001b[0m)             │         \u001b[38;5;34m9,408\u001b[0m │\n",
       "├─────────────────────────────────┼────────────────────────┼───────────────┤\n",
       "│ dropout (\u001b[38;5;33mDropout\u001b[0m)               │ (\u001b[38;5;45mNone\u001b[0m, \u001b[38;5;34m32\u001b[0m)             │             \u001b[38;5;34m0\u001b[0m │\n",
       "├─────────────────────────────────┼────────────────────────┼───────────────┤\n",
       "│ dense (\u001b[38;5;33mDense\u001b[0m)                   │ (\u001b[38;5;45mNone\u001b[0m, \u001b[38;5;34m1\u001b[0m)              │            \u001b[38;5;34m33\u001b[0m │\n",
       "└─────────────────────────────────┴────────────────────────┴───────────────┘\n"
      ]
     },
     "metadata": {},
     "output_type": "display_data"
    },
    {
     "data": {
      "text/html": [
       "<pre style=\"white-space:pre;overflow-x:auto;line-height:normal;font-family:Menlo,'DejaVu Sans Mono',consolas,'Courier New',monospace\"><span style=\"font-weight: bold\"> Total params: </span><span style=\"color: #00af00; text-decoration-color: #00af00\">23,073</span> (90.13 KB)\n",
       "</pre>\n"
      ],
      "text/plain": [
       "\u001b[1m Total params: \u001b[0m\u001b[38;5;34m23,073\u001b[0m (90.13 KB)\n"
      ]
     },
     "metadata": {},
     "output_type": "display_data"
    },
    {
     "data": {
      "text/html": [
       "<pre style=\"white-space:pre;overflow-x:auto;line-height:normal;font-family:Menlo,'DejaVu Sans Mono',consolas,'Courier New',monospace\"><span style=\"font-weight: bold\"> Trainable params: </span><span style=\"color: #00af00; text-decoration-color: #00af00\">23,073</span> (90.13 KB)\n",
       "</pre>\n"
      ],
      "text/plain": [
       "\u001b[1m Trainable params: \u001b[0m\u001b[38;5;34m23,073\u001b[0m (90.13 KB)\n"
      ]
     },
     "metadata": {},
     "output_type": "display_data"
    },
    {
     "data": {
      "text/html": [
       "<pre style=\"white-space:pre;overflow-x:auto;line-height:normal;font-family:Menlo,'DejaVu Sans Mono',consolas,'Courier New',monospace\"><span style=\"font-weight: bold\"> Non-trainable params: </span><span style=\"color: #00af00; text-decoration-color: #00af00\">0</span> (0.00 B)\n",
       "</pre>\n"
      ],
      "text/plain": [
       "\u001b[1m Non-trainable params: \u001b[0m\u001b[38;5;34m0\u001b[0m (0.00 B)\n"
      ]
     },
     "metadata": {},
     "output_type": "display_data"
    }
   ],
   "source": [
    "model = Sequential()\n",
    "\n",
    "model.add(\n",
    "    GRU(64,\n",
    "         activation='tanh',\n",
    "         recurrent_activation='sigmoid',\n",
    "         input_shape=(X_train.shape[1], X_train.shape[2]),\n",
    "         return_sequences=True)\n",
    "         )\n",
    "\n",
    "model.add(\n",
    "    GRU(32,\n",
    "         activation='tanh',\n",
    "         recurrent_activation='sigmoid',\n",
    "         return_sequences=False)\n",
    "         )\n",
    "\n",
    "model.add(Dropout(0.2))\n",
    "model.add(Dense(y_train.shape[1]))\n",
    "model.compile(optimizer='adam', loss='mse')\n",
    "model.summary()"
   ]
  },
  {
   "cell_type": "markdown",
   "id": "ebbc313e",
   "metadata": {},
   "source": [
    "Train the GRU model on the prepared data:\n",
    "\n",
    "- `X_train` and `y_train` are the input and target sequences.\n",
    "- `epochs=50`: The model will go through the entire dataset 50 times.\n",
    "- `batch_size=32`: Number of samples processed before updating the model’s weights.\n",
    "- `validation_split=0.1`: 10% of the data is used to evaluate the model during training.\n",
    "- `verbose=1`: Displays the training progress for each epoch.\n"
   ]
  },
  {
   "cell_type": "code",
   "execution_count": 9,
   "id": "77a5880e",
   "metadata": {},
   "outputs": [
    {
     "name": "stdout",
     "output_type": "stream",
     "text": [
      "Epoch 1/30\n",
      "\u001b[1m76/76\u001b[0m \u001b[32m━━━━━━━━━━━━━━━━━━━━\u001b[0m\u001b[37m\u001b[0m \u001b[1m2s\u001b[0m 6ms/step - loss: 0.0395 - val_loss: 0.2272\n",
      "Epoch 2/30\n",
      "\u001b[1m76/76\u001b[0m \u001b[32m━━━━━━━━━━━━━━━━━━━━\u001b[0m\u001b[37m\u001b[0m \u001b[1m0s\u001b[0m 5ms/step - loss: 0.0076 - val_loss: 0.0349\n",
      "Epoch 3/30\n",
      "\u001b[1m76/76\u001b[0m \u001b[32m━━━━━━━━━━━━━━━━━━━━\u001b[0m\u001b[37m\u001b[0m \u001b[1m0s\u001b[0m 5ms/step - loss: 0.0050 - val_loss: 0.0311\n",
      "Epoch 4/30\n",
      "\u001b[1m76/76\u001b[0m \u001b[32m━━━━━━━━━━━━━━━━━━━━\u001b[0m\u001b[37m\u001b[0m \u001b[1m0s\u001b[0m 5ms/step - loss: 0.0054 - val_loss: 0.0497\n",
      "Epoch 5/30\n",
      "\u001b[1m76/76\u001b[0m \u001b[32m━━━━━━━━━━━━━━━━━━━━\u001b[0m\u001b[37m\u001b[0m \u001b[1m1s\u001b[0m 7ms/step - loss: 0.0054 - val_loss: 0.1402\n",
      "Epoch 6/30\n",
      "\u001b[1m76/76\u001b[0m \u001b[32m━━━━━━━━━━━━━━━━━━━━\u001b[0m\u001b[37m\u001b[0m \u001b[1m0s\u001b[0m 5ms/step - loss: 0.0062 - val_loss: 0.0798\n",
      "Epoch 7/30\n",
      "\u001b[1m76/76\u001b[0m \u001b[32m━━━━━━━━━━━━━━━━━━━━\u001b[0m\u001b[37m\u001b[0m \u001b[1m0s\u001b[0m 5ms/step - loss: 0.0058 - val_loss: 0.0201\n",
      "Epoch 8/30\n",
      "\u001b[1m76/76\u001b[0m \u001b[32m━━━━━━━━━━━━━━━━━━━━\u001b[0m\u001b[37m\u001b[0m \u001b[1m0s\u001b[0m 6ms/step - loss: 0.0043 - val_loss: 0.0391\n",
      "Epoch 9/30\n",
      "\u001b[1m76/76\u001b[0m \u001b[32m━━━━━━━━━━━━━━━━━━━━\u001b[0m\u001b[37m\u001b[0m \u001b[1m0s\u001b[0m 5ms/step - loss: 0.0034 - val_loss: 0.0265\n",
      "Epoch 10/30\n",
      "\u001b[1m76/76\u001b[0m \u001b[32m━━━━━━━━━━━━━━━━━━━━\u001b[0m\u001b[37m\u001b[0m \u001b[1m0s\u001b[0m 5ms/step - loss: 0.0044 - val_loss: 0.0236\n",
      "Epoch 11/30\n",
      "\u001b[1m76/76\u001b[0m \u001b[32m━━━━━━━━━━━━━━━━━━━━\u001b[0m\u001b[37m\u001b[0m \u001b[1m0s\u001b[0m 6ms/step - loss: 0.0052 - val_loss: 0.0524\n",
      "Epoch 12/30\n",
      "\u001b[1m76/76\u001b[0m \u001b[32m━━━━━━━━━━━━━━━━━━━━\u001b[0m\u001b[37m\u001b[0m \u001b[1m0s\u001b[0m 5ms/step - loss: 0.0050 - val_loss: 0.0400\n",
      "Epoch 13/30\n",
      "\u001b[1m76/76\u001b[0m \u001b[32m━━━━━━━━━━━━━━━━━━━━\u001b[0m\u001b[37m\u001b[0m \u001b[1m0s\u001b[0m 5ms/step - loss: 0.0037 - val_loss: 0.0362\n",
      "Epoch 14/30\n",
      "\u001b[1m76/76\u001b[0m \u001b[32m━━━━━━━━━━━━━━━━━━━━\u001b[0m\u001b[37m\u001b[0m \u001b[1m0s\u001b[0m 5ms/step - loss: 0.0043 - val_loss: 0.0536\n",
      "Epoch 15/30\n",
      "\u001b[1m76/76\u001b[0m \u001b[32m━━━━━━━━━━━━━━━━━━━━\u001b[0m\u001b[37m\u001b[0m \u001b[1m0s\u001b[0m 5ms/step - loss: 0.0042 - val_loss: 0.0156\n",
      "Epoch 16/30\n",
      "\u001b[1m76/76\u001b[0m \u001b[32m━━━━━━━━━━━━━━━━━━━━\u001b[0m\u001b[37m\u001b[0m \u001b[1m0s\u001b[0m 5ms/step - loss: 0.0046 - val_loss: 0.0177\n",
      "Epoch 17/30\n",
      "\u001b[1m76/76\u001b[0m \u001b[32m━━━━━━━━━━━━━━━━━━━━\u001b[0m\u001b[37m\u001b[0m \u001b[1m0s\u001b[0m 5ms/step - loss: 0.0039 - val_loss: 0.0174\n",
      "Epoch 18/30\n",
      "\u001b[1m76/76\u001b[0m \u001b[32m━━━━━━━━━━━━━━━━━━━━\u001b[0m\u001b[37m\u001b[0m \u001b[1m0s\u001b[0m 6ms/step - loss: 0.0039 - val_loss: 0.0223\n",
      "Epoch 19/30\n",
      "\u001b[1m76/76\u001b[0m \u001b[32m━━━━━━━━━━━━━━━━━━━━\u001b[0m\u001b[37m\u001b[0m \u001b[1m0s\u001b[0m 6ms/step - loss: 0.0037 - val_loss: 0.0233\n",
      "Epoch 20/30\n",
      "\u001b[1m76/76\u001b[0m \u001b[32m━━━━━━━━━━━━━━━━━━━━\u001b[0m\u001b[37m\u001b[0m \u001b[1m0s\u001b[0m 5ms/step - loss: 0.0038 - val_loss: 0.0475\n",
      "Epoch 21/30\n",
      "\u001b[1m76/76\u001b[0m \u001b[32m━━━━━━━━━━━━━━━━━━━━\u001b[0m\u001b[37m\u001b[0m \u001b[1m0s\u001b[0m 5ms/step - loss: 0.0043 - val_loss: 0.0320\n",
      "Epoch 22/30\n",
      "\u001b[1m76/76\u001b[0m \u001b[32m━━━━━━━━━━━━━━━━━━━━\u001b[0m\u001b[37m\u001b[0m \u001b[1m0s\u001b[0m 5ms/step - loss: 0.0038 - val_loss: 0.0162\n",
      "Epoch 23/30\n",
      "\u001b[1m76/76\u001b[0m \u001b[32m━━━━━━━━━━━━━━━━━━━━\u001b[0m\u001b[37m\u001b[0m \u001b[1m0s\u001b[0m 5ms/step - loss: 0.0040 - val_loss: 0.0186\n",
      "Epoch 24/30\n",
      "\u001b[1m76/76\u001b[0m \u001b[32m━━━━━━━━━━━━━━━━━━━━\u001b[0m\u001b[37m\u001b[0m \u001b[1m0s\u001b[0m 5ms/step - loss: 0.0038 - val_loss: 0.0127\n",
      "Epoch 25/30\n",
      "\u001b[1m76/76\u001b[0m \u001b[32m━━━━━━━━━━━━━━━━━━━━\u001b[0m\u001b[37m\u001b[0m \u001b[1m0s\u001b[0m 5ms/step - loss: 0.0039 - val_loss: 0.0207\n",
      "Epoch 26/30\n",
      "\u001b[1m76/76\u001b[0m \u001b[32m━━━━━━━━━━━━━━━━━━━━\u001b[0m\u001b[37m\u001b[0m \u001b[1m0s\u001b[0m 5ms/step - loss: 0.0033 - val_loss: 0.0528\n",
      "Epoch 27/30\n",
      "\u001b[1m76/76\u001b[0m \u001b[32m━━━━━━━━━━━━━━━━━━━━\u001b[0m\u001b[37m\u001b[0m \u001b[1m0s\u001b[0m 6ms/step - loss: 0.0036 - val_loss: 0.0121\n",
      "Epoch 28/30\n",
      "\u001b[1m76/76\u001b[0m \u001b[32m━━━━━━━━━━━━━━━━━━━━\u001b[0m\u001b[37m\u001b[0m \u001b[1m1s\u001b[0m 6ms/step - loss: 0.0039 - val_loss: 0.0294\n",
      "Epoch 29/30\n",
      "\u001b[1m76/76\u001b[0m \u001b[32m━━━━━━━━━━━━━━━━━━━━\u001b[0m\u001b[37m\u001b[0m \u001b[1m0s\u001b[0m 5ms/step - loss: 0.0029 - val_loss: 0.0275\n",
      "Epoch 30/30\n",
      "\u001b[1m76/76\u001b[0m \u001b[32m━━━━━━━━━━━━━━━━━━━━\u001b[0m\u001b[37m\u001b[0m \u001b[1m0s\u001b[0m 5ms/step - loss: 0.0032 - val_loss: 0.0320\n"
     ]
    }
   ],
   "source": [
    "# fit the model\n",
    "history = model.fit(\n",
    "    X_train, y_train,\n",
    "    epochs=30,\n",
    "    batch_size=32,\n",
    "    validation_split=0.1,\n",
    "    verbose=1,\n",
    ")"
   ]
  },
  {
   "cell_type": "code",
   "execution_count": 10,
   "id": "ec24b8da",
   "metadata": {},
   "outputs": [
    {
     "data": {
      "image/png": "[encoded data removed]",
      "text/plain": [
       "<Figure size 640x480 with 1 Axes>"
      ]
     },
     "metadata": {},
     "output_type": "display_data"
    }
   ],
   "source": [
    "plt.plot(history.history['loss'], label='Train Loss')\n",
    "plt.plot(history.history['val_loss'], label='Validation Loss')\n",
    "plt.legend()\n",
    "plt.show()"
   ]
  },
  {
   "cell_type": "markdown",
   "id": "50c06394",
   "metadata": {},
   "source": [
    "Generate the future dates for prediction while considering only US business days:\n",
    "\n",
    "- Import libraries to handle US federal holidays and business days.\n",
    "- `n_past` specifies how many past days we look back for predictions.\n",
    "- `n_days_for_prediction` is the number of future days we want to predict.\n",
    "- `pd.date_range` with `CustomBusinessDay` ensures that the predicted dates skip weekends and US holidays.\n",
    "- `predict_period_dates` contains the list of dates corresponding to the predictions.\n"
   ]
  },
  {
   "cell_type": "code",
   "execution_count": 11,
   "id": "c804df44",
   "metadata": {},
   "outputs": [
    {
     "data": {
      "text/plain": [
       "[Timestamp('2025-09-10 00:00:00', freq='C'),\n",
       " Timestamp('2025-09-11 00:00:00', freq='C'),\n",
       " Timestamp('2025-09-12 00:00:00', freq='C'),\n",
       " Timestamp('2025-09-15 00:00:00', freq='C'),\n",
       " Timestamp('2025-09-16 00:00:00', freq='C'),\n",
       " Timestamp('2025-09-17 00:00:00', freq='C'),\n",
       " Timestamp('2025-09-18 00:00:00', freq='C'),\n",
       " Timestamp('2025-09-19 00:00:00', freq='C'),\n",
       " Timestamp('2025-09-22 00:00:00', freq='C'),\n",
       " Timestamp('2025-09-23 00:00:00', freq='C'),\n",
       " Timestamp('2025-09-24 00:00:00', freq='C'),\n",
       " Timestamp('2025-09-25 00:00:00', freq='C'),\n",
       " Timestamp('2025-09-26 00:00:00', freq='C'),\n",
       " Timestamp('2025-09-29 00:00:00', freq='C')]"
      ]
     },
     "execution_count": 11,
     "metadata": {},
     "output_type": "execute_result"
    }
   ],
   "source": [
    "from pandas.tseries.holiday import USFederalHolidayCalendar\n",
    "from pandas.tseries.offsets import CustomBusinessDay\n",
    "\n",
    "n_past = 15\n",
    "n_days_for_prediction = 14\n",
    "\n",
    "predict_period_dates = pd.date_range(\n",
    "    start=list(train_dates)[-n_past],\n",
    "    periods=n_days_for_prediction,\n",
    "    freq=CustomBusinessDay(calendar=USFederalHolidayCalendar())\n",
    ").tolist()\n",
    "predict_period_dates"
   ]
  },
  {
   "cell_type": "code",
   "execution_count": 12,
   "id": "d9000ea2",
   "metadata": {},
   "outputs": [
    {
     "name": "stdout",
     "output_type": "stream",
     "text": [
      "\u001b[1m1/1\u001b[0m \u001b[32m━━━━━━━━━━━━━━━━━━━━\u001b[0m\u001b[37m\u001b[0m \u001b[1m0s\u001b[0m 125ms/step\n"
     ]
    }
   ],
   "source": [
    "# Make predictions\n",
    "prediction = model.predict(X_train[-n_days_for_prediction:])"
   ]
  },
  {
   "cell_type": "markdown",
   "id": "eef658fd",
   "metadata": {},
   "source": [
    "Rescale the predictions back to the original stock price range:\n",
    "\n",
    "- The scaler was fitted on **5 features**, so inverse transformation expects the same number of columns.\n",
    "- `np.repeat` duplicates the predictions across 5 columns temporarily.\n",
    "- `scaler.inverse_transform` converts the normalized values back to the original scale.\n",
    "- We only keep the first column (the 'Open' price) as our final predicted values (`y_pred_future`).\n"
   ]
  },
  {
   "cell_type": "code",
   "execution_count": 13,
   "id": "89a3e22c",
   "metadata": {},
   "outputs": [
    {
     "data": {
      "text/plain": [
       "array([164.30646, 163.1846 , 163.02191, 162.51244, 161.54768, 157.8992 ,\n",
       "       163.00273, 162.5436 , 165.785  , 163.33319, 162.7225 , 162.4899 ,\n",
       "       163.24167, 166.58127], dtype=float32)"
      ]
     },
     "execution_count": 13,
     "metadata": {},
     "output_type": "execute_result"
    }
   ],
   "source": [
    "prediction_copies = np.repeat(prediction, df_scaled.shape[1], axis=1)\n",
    "y_pred_future = scaler.inverse_transform(prediction_copies)[:, 0]\n",
    "y_pred_future"
   ]
  },
  {
   "cell_type": "code",
   "execution_count": 14,
   "id": "81f7a8ff",
   "metadata": {},
   "outputs": [
    {
     "data": {
      "text/html": [
       "<div>\n",
       "<style scoped>\n",
       "    .dataframe tbody tr th:only-of-type {\n",
       "        vertical-align: middle;\n",
       "    }\n",
       "\n",
       "    .dataframe tbody tr th {\n",
       "        vertical-align: top;\n",
       "    }\n",
       "\n",
       "    .dataframe thead th {\n",
       "        text-align: right;\n",
       "    }\n",
       "</style>\n",
       "<table border=\"1\" class=\"dataframe\">\n",
       "  <thead>\n",
       "    <tr style=\"text-align: right;\">\n",
       "      <th></th>\n",
       "      <th>Date</th>\n",
       "      <th>Predicted_Open</th>\n",
       "    </tr>\n",
       "  </thead>\n",
       "  <tbody>\n",
       "    <tr>\n",
       "      <th>0</th>\n",
       "      <td>2025-09-10</td>\n",
       "      <td>164.306458</td>\n",
       "    </tr>\n",
       "    <tr>\n",
       "      <th>1</th>\n",
       "      <td>2025-09-11</td>\n",
       "      <td>163.184601</td>\n",
       "    </tr>\n",
       "    <tr>\n",
       "      <th>2</th>\n",
       "      <td>2025-09-12</td>\n",
       "      <td>163.021912</td>\n",
       "    </tr>\n",
       "    <tr>\n",
       "      <th>3</th>\n",
       "      <td>2025-09-15</td>\n",
       "      <td>162.512436</td>\n",
       "    </tr>\n",
       "    <tr>\n",
       "      <th>4</th>\n",
       "      <td>2025-09-16</td>\n",
       "      <td>161.547684</td>\n",
       "    </tr>\n",
       "    <tr>\n",
       "      <th>5</th>\n",
       "      <td>2025-09-17</td>\n",
       "      <td>157.899200</td>\n",
       "    </tr>\n",
       "    <tr>\n",
       "      <th>6</th>\n",
       "      <td>2025-09-18</td>\n",
       "      <td>163.002731</td>\n",
       "    </tr>\n",
       "    <tr>\n",
       "      <th>7</th>\n",
       "      <td>2025-09-19</td>\n",
       "      <td>162.543594</td>\n",
       "    </tr>\n",
       "    <tr>\n",
       "      <th>8</th>\n",
       "      <td>2025-09-22</td>\n",
       "      <td>165.785004</td>\n",
       "    </tr>\n",
       "    <tr>\n",
       "      <th>9</th>\n",
       "      <td>2025-09-23</td>\n",
       "      <td>163.333191</td>\n",
       "    </tr>\n",
       "    <tr>\n",
       "      <th>10</th>\n",
       "      <td>2025-09-24</td>\n",
       "      <td>162.722504</td>\n",
       "    </tr>\n",
       "    <tr>\n",
       "      <th>11</th>\n",
       "      <td>2025-09-25</td>\n",
       "      <td>162.489899</td>\n",
       "    </tr>\n",
       "    <tr>\n",
       "      <th>12</th>\n",
       "      <td>2025-09-26</td>\n",
       "      <td>163.241669</td>\n",
       "    </tr>\n",
       "    <tr>\n",
       "      <th>13</th>\n",
       "      <td>2025-09-29</td>\n",
       "      <td>166.581268</td>\n",
       "    </tr>\n",
       "  </tbody>\n",
       "</table>\n",
       "</div>"
      ],
      "text/plain": [
       "         Date  Predicted_Open\n",
       "0  2025-09-10      164.306458\n",
       "1  2025-09-11      163.184601\n",
       "2  2025-09-12      163.021912\n",
       "3  2025-09-15      162.512436\n",
       "4  2025-09-16      161.547684\n",
       "5  2025-09-17      157.899200\n",
       "6  2025-09-18      163.002731\n",
       "7  2025-09-19      162.543594\n",
       "8  2025-09-22      165.785004\n",
       "9  2025-09-23      163.333191\n",
       "10 2025-09-24      162.722504\n",
       "11 2025-09-25      162.489899\n",
       "12 2025-09-26      163.241669\n",
       "13 2025-09-29      166.581268"
      ]
     },
     "execution_count": 14,
     "metadata": {},
     "output_type": "execute_result"
    }
   ],
   "source": [
    "df_forecast = pd.DataFrame({\n",
    "    'Date': pd.to_datetime(predict_period_dates),\n",
    "    'Predicted_Open': y_pred_future\n",
    "})\n",
    "df_forecast"
   ]
  },
  {
   "cell_type": "code",
   "execution_count": 15,
   "id": "1906e024",
   "metadata": {},
   "outputs": [],
   "source": [
    "# Extracting original 'Open' prices for the forecasted dates for comparison\n",
    "df_original = df.loc[(df['Date'] >= '2025-09-10') & (df['Date'] <= '2025-09-29'), ['Date', 'Open'] ]"
   ]
  },
  {
   "cell_type": "code",
   "execution_count": 16,
   "id": "74f49fb4",
   "metadata": {},
   "outputs": [
    {
     "data": {
      "image/png": "[encoded data removed]",
      "text/plain": [
       "<Figure size 640x480 with 1 Axes>"
      ]
     },
     "metadata": {},
     "output_type": "display_data"
    }
   ],
   "source": [
    "sns.lineplot(data=df_forecast, x='Date', y='Predicted_Open', label='Predicted Open')\n",
    "sns.lineplot(data=df_original, x='Date', y='Open', label='Original Open')\n",
    "plt.xticks(rotation=45)\n",
    "plt.show()"
   ]
  },
  {
   "cell_type": "code",
   "execution_count": null,
   "id": "768431ac",
   "metadata": {},
   "outputs": [],
   "source": []
  }
 ],
 "metadata": {
  "kernelspec": {
   "display_name": "base",
   "language": "python",
   "name": "python3"
  },
  "language_info": {
   "codemirror_mode": {
    "name": "ipython",
    "version": 3
   },
   "file_extension": ".py",
   "mimetype": "text/x-python",
   "name": "python",
   "nbconvert_exporter": "python",
   "pygments_lexer": "ipython3",
   "version": "3.11.0"
  }
 },
 "nbformat": 4,
 "nbformat_minor": 5
}
