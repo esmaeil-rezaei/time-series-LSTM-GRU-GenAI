{
 "cells": [
  {
   "cell_type": "code",
   "execution_count": 1,
   "id": "6cbf3ac4",
   "metadata": {},
   "outputs": [
    {
     "name": "stderr",
     "output_type": "stream",
     "text": [
      "/var/folders/94/18sqr3292qj66m2k622fh4580000gn/T/ipykernel_18510/3920941329.py:5: FutureWarning: YF.download() has changed argument auto_adjust default to True\n",
      "  data = yf.download('NVDA', start='2015-01-01', end='2025-10-01', interval='1d')\n",
      "[*********************100%***********************]  1 of 1 completed\n"
     ]
    }
   ],
   "source": [
    "import yfinance as yf\n",
    "import pandas as pd\n",
    "\n",
    "# Download NVIDA stock data from Yahoo Finance\n",
    "data = yf.download('NVDA', start='2015-01-01', end='2025-10-01', interval='1d')"
   ]
  },
  {
   "cell_type": "code",
   "execution_count": 2,
   "id": "96a07188",
   "metadata": {},
   "outputs": [
    {
     "data": {
      "text/html": [
       "<div>\n",
       "<style scoped>\n",
       "    .dataframe tbody tr th:only-of-type {\n",
       "        vertical-align: middle;\n",
       "    }\n",
       "\n",
       "    .dataframe tbody tr th {\n",
       "        vertical-align: top;\n",
       "    }\n",
       "\n",
       "    .dataframe thead th {\n",
       "        text-align: right;\n",
       "    }\n",
       "</style>\n",
       "<table border=\"1\" class=\"dataframe\">\n",
       "  <thead>\n",
       "    <tr style=\"text-align: right;\">\n",
       "      <th></th>\n",
       "      <th>Date</th>\n",
       "      <th>Close</th>\n",
       "      <th>High</th>\n",
       "      <th>Low</th>\n",
       "      <th>Open</th>\n",
       "      <th>Volume</th>\n",
       "    </tr>\n",
       "  </thead>\n",
       "  <tbody>\n",
       "    <tr>\n",
       "      <th>0</th>\n",
       "      <td>2015-01-02</td>\n",
       "      <td>0.483038</td>\n",
       "      <td>0.486638</td>\n",
       "      <td>0.475360</td>\n",
       "      <td>0.483038</td>\n",
       "      <td>113680000.0</td>\n",
       "    </tr>\n",
       "    <tr>\n",
       "      <th>1</th>\n",
       "      <td>2015-01-05</td>\n",
       "      <td>0.474880</td>\n",
       "      <td>0.484478</td>\n",
       "      <td>0.472720</td>\n",
       "      <td>0.483038</td>\n",
       "      <td>197952000.0</td>\n",
       "    </tr>\n",
       "    <tr>\n",
       "      <th>2</th>\n",
       "      <td>2015-01-06</td>\n",
       "      <td>0.460482</td>\n",
       "      <td>0.476079</td>\n",
       "      <td>0.460002</td>\n",
       "      <td>0.475600</td>\n",
       "      <td>197764000.0</td>\n",
       "    </tr>\n",
       "    <tr>\n",
       "      <th>3</th>\n",
       "      <td>2015-01-07</td>\n",
       "      <td>0.459282</td>\n",
       "      <td>0.467921</td>\n",
       "      <td>0.457842</td>\n",
       "      <td>0.463841</td>\n",
       "      <td>321808000.0</td>\n",
       "    </tr>\n",
       "    <tr>\n",
       "      <th>4</th>\n",
       "      <td>2015-01-08</td>\n",
       "      <td>0.476559</td>\n",
       "      <td>0.479439</td>\n",
       "      <td>0.464321</td>\n",
       "      <td>0.464561</td>\n",
       "      <td>283780000.0</td>\n",
       "    </tr>\n",
       "    <tr>\n",
       "      <th>...</th>\n",
       "      <td>...</td>\n",
       "      <td>...</td>\n",
       "      <td>...</td>\n",
       "      <td>...</td>\n",
       "      <td>...</td>\n",
       "      <td>...</td>\n",
       "    </tr>\n",
       "    <tr>\n",
       "      <th>2697</th>\n",
       "      <td>2025-09-24</td>\n",
       "      <td>176.970001</td>\n",
       "      <td>179.779999</td>\n",
       "      <td>175.399994</td>\n",
       "      <td>179.770004</td>\n",
       "      <td>143564100.0</td>\n",
       "    </tr>\n",
       "    <tr>\n",
       "      <th>2698</th>\n",
       "      <td>2025-09-25</td>\n",
       "      <td>177.690002</td>\n",
       "      <td>180.259995</td>\n",
       "      <td>173.130005</td>\n",
       "      <td>174.479996</td>\n",
       "      <td>191586700.0</td>\n",
       "    </tr>\n",
       "    <tr>\n",
       "      <th>2699</th>\n",
       "      <td>2025-09-26</td>\n",
       "      <td>178.190002</td>\n",
       "      <td>179.770004</td>\n",
       "      <td>174.929993</td>\n",
       "      <td>178.169998</td>\n",
       "      <td>148573700.0</td>\n",
       "    </tr>\n",
       "    <tr>\n",
       "      <th>2700</th>\n",
       "      <td>2025-09-29</td>\n",
       "      <td>181.850006</td>\n",
       "      <td>184.000000</td>\n",
       "      <td>180.320007</td>\n",
       "      <td>180.429993</td>\n",
       "      <td>193063500.0</td>\n",
       "    </tr>\n",
       "    <tr>\n",
       "      <th>2701</th>\n",
       "      <td>2025-09-30</td>\n",
       "      <td>186.580002</td>\n",
       "      <td>187.350006</td>\n",
       "      <td>181.479996</td>\n",
       "      <td>182.080002</td>\n",
       "      <td>236981000.0</td>\n",
       "    </tr>\n",
       "  </tbody>\n",
       "</table>\n",
       "<p>2702 rows × 6 columns</p>\n",
       "</div>"
      ],
      "text/plain": [
       "           Date       Close        High         Low        Open       Volume\n",
       "0    2015-01-02    0.483038    0.486638    0.475360    0.483038  113680000.0\n",
       "1    2015-01-05    0.474880    0.484478    0.472720    0.483038  197952000.0\n",
       "2    2015-01-06    0.460482    0.476079    0.460002    0.475600  197764000.0\n",
       "3    2015-01-07    0.459282    0.467921    0.457842    0.463841  321808000.0\n",
       "4    2015-01-08    0.476559    0.479439    0.464321    0.464561  283780000.0\n",
       "...         ...         ...         ...         ...         ...          ...\n",
       "2697 2025-09-24  176.970001  179.779999  175.399994  179.770004  143564100.0\n",
       "2698 2025-09-25  177.690002  180.259995  173.130005  174.479996  191586700.0\n",
       "2699 2025-09-26  178.190002  179.770004  174.929993  178.169998  148573700.0\n",
       "2700 2025-09-29  181.850006  184.000000  180.320007  180.429993  193063500.0\n",
       "2701 2025-09-30  186.580002  187.350006  181.479996  182.080002  236981000.0\n",
       "\n",
       "[2702 rows x 6 columns]"
      ]
     },
     "execution_count": 2,
     "metadata": {},
     "output_type": "execute_result"
    }
   ],
   "source": [
    "df = pd.DataFrame(data=data.values, columns=['Close', 'High', 'Low', 'Open', 'Volume'])\n",
    "df.insert(0, 'Date', data.index)\n",
    "df"
   ]
  },
  {
   "cell_type": "code",
   "execution_count": 3,
   "id": "f242716c",
   "metadata": {},
   "outputs": [],
   "source": [
    "import numpy as np\n",
    "from tensorflow.keras.models import Sequential\n",
    "from tensorflow.keras.layers import LSTM, Conv1D, Dense, Dropout, Flatten, MaxPooling1D, Bidirectional\n",
    "\n",
    "from sklearn.preprocessing import StandardScaler\n",
    "import matplotlib.pyplot as plt\n",
    "import seaborn as sns"
   ]
  },
  {
   "cell_type": "markdown",
   "id": "5d05a1d0",
   "metadata": {},
   "source": [
    "Prepare the stock data for CNN by converting dates to proper datetime format and scaling numerical features. Scaling is important because CNN models perform better when input values are normalized.\n"
   ]
  },
  {
   "cell_type": "code",
   "execution_count": 4,
   "id": "1686355d",
   "metadata": {},
   "outputs": [],
   "source": [
    "train_dates = pd.to_datetime(df['Date'])\n",
    "\n",
    "train_cols = ['Close', 'High', 'Low', 'Open', 'Volume']\n",
    "\n",
    "scaler = StandardScaler()\n",
    "scaler = scaler.fit(df[train_cols]) # we need this for inverse transform later\n",
    "df_scaled = scaler.transform(df[train_cols])"
   ]
  },
  {
   "cell_type": "markdown",
   "id": "b5fd65b8",
   "metadata": {},
   "source": [
    "Prepare the input (`X_train`) and output (`y_train`) for the CNN model.\n",
    "\n",
    "- `n_past` defines how many past days the model will use to make a prediction.\n",
    "- `n_features` represents the number of days we want to predict into the future.\n"
   ]
  },
  {
   "cell_type": "code",
   "execution_count": 5,
   "id": "6bfe9183",
   "metadata": {},
   "outputs": [],
   "source": [
    "X_train = []\n",
    "y_train = []\n",
    "n_features = 1\n",
    "n_past = 14"
   ]
  },
  {
   "cell_type": "markdown",
   "id": "03c75b9f",
   "metadata": {},
   "source": [
    "Reformat the data to make it suitable for the input:\n",
    "\n",
    "- LSTM expects input in the shape **(samples, timesteps, features)**.\n",
    "- For each step, we take the past `n_past` days as input (`X_train`) and predict the future `n_features` day(s) of the 'Open' price (`y_train`).\n"
   ]
  },
  {
   "cell_type": "code",
   "execution_count": 6,
   "id": "72c82080",
   "metadata": {},
   "outputs": [],
   "source": [
    "for i in range(n_past, len(df_scaled) - n_features + 1):\n",
    "    X_train.append(df_scaled[i - n_past:i, 0: df_scaled.shape[1]])\n",
    "    y_train.append(df_scaled[i + n_features - 1:i + n_features, 3])  # Predicting 'Open' price"
   ]
  },
  {
   "cell_type": "code",
   "execution_count": 7,
   "id": "5d8667cb",
   "metadata": {},
   "outputs": [
    {
     "name": "stdout",
     "output_type": "stream",
     "text": [
      "(2688, 14, 5) (2688, 1)\n"
     ]
    }
   ],
   "source": [
    "X_train, y_train = np.array(X_train), np.array(y_train)\n",
    "print(X_train.shape, y_train.shape)"
   ]
  },
  {
   "cell_type": "markdown",
   "id": "4129bb55",
   "metadata": {},
   "source": [
    "Define a 1D Convolutional Neural Network (CNN) autoencoder for time series prediction:\n",
    "\n",
    "- **Conv1D layers**: Extract temporal patterns from sequences.\n",
    "  - **First layer**: 64 filters, kernel size 3, `relu` activation.\n",
    "  - **Second layer**: 32 filters, kernel size 3, `relu` activation.\n",
    "- **Dropout layer**: Prevents overfitting by randomly ignoring 20% of neurons during training.\n",
    "- **Flatten layer**: Converts 2D feature maps into 1D vector for the Dense layer.\n",
    "- **Dense layer**: Outputs the predicted values of the target (e.g., 'Open' price).\n",
    "- **Compile**: Using `adam` optimizer and mean squared error (`mse`) loss function.\n",
    "- `model.summary()` prints the architecture and number of parameters.\n",
    "\n",
    "It is common to combine **CNN (Conv1D) with LSTM** for time series prediction because CNN extracts local patterns and LSTM captures sequential dependencies. However, for our dataset, **a pure CNN works better**, likely because the sequences are short and the patterns are mostly local rather than long-term dependencies.\n"
   ]
  },
  {
   "cell_type": "code",
   "execution_count": 8,
   "id": "108a91ed",
   "metadata": {},
   "outputs": [
    {
     "name": "stderr",
     "output_type": "stream",
     "text": [
      "/opt/anaconda3/lib/python3.11/site-packages/keras/src/layers/convolutional/base_conv.py:107: UserWarning: Do not pass an `input_shape`/`input_dim` argument to a layer. When using Sequential models, prefer using an `Input(shape)` object as the first layer in the model instead.\n",
      "  super().__init__(activity_regularizer=activity_regularizer, **kwargs)\n"
     ]
    },
    {
     "data": {
      "text/html": [
       "<pre style=\"white-space:pre;overflow-x:auto;line-height:normal;font-family:Menlo,'DejaVu Sans Mono',consolas,'Courier New',monospace\"><span style=\"font-weight: bold\">Model: \"sequential\"</span>\n",
       "</pre>\n"
      ],
      "text/plain": [
       "\u001b[1mModel: \"sequential\"\u001b[0m\n"
      ]
     },
     "metadata": {},
     "output_type": "display_data"
    },
    {
     "data": {
      "text/html": [
       "<pre style=\"white-space:pre;overflow-x:auto;line-height:normal;font-family:Menlo,'DejaVu Sans Mono',consolas,'Courier New',monospace\">┏━━━━━━━━━━━━━━━━━━━━━━━━━━━━━━━━━┳━━━━━━━━━━━━━━━━━━━━━━━━┳━━━━━━━━━━━━━━━┓\n",
       "┃<span style=\"font-weight: bold\"> Layer (type)                    </span>┃<span style=\"font-weight: bold\"> Output Shape           </span>┃<span style=\"font-weight: bold\">       Param # </span>┃\n",
       "┡━━━━━━━━━━━━━━━━━━━━━━━━━━━━━━━━━╇━━━━━━━━━━━━━━━━━━━━━━━━╇━━━━━━━━━━━━━━━┩\n",
       "│ conv1d (<span style=\"color: #0087ff; text-decoration-color: #0087ff\">Conv1D</span>)                 │ (<span style=\"color: #00d7ff; text-decoration-color: #00d7ff\">None</span>, <span style=\"color: #00af00; text-decoration-color: #00af00\">12</span>, <span style=\"color: #00af00; text-decoration-color: #00af00\">64</span>)         │         <span style=\"color: #00af00; text-decoration-color: #00af00\">1,024</span> │\n",
       "├─────────────────────────────────┼────────────────────────┼───────────────┤\n",
       "│ conv1d_1 (<span style=\"color: #0087ff; text-decoration-color: #0087ff\">Conv1D</span>)               │ (<span style=\"color: #00d7ff; text-decoration-color: #00d7ff\">None</span>, <span style=\"color: #00af00; text-decoration-color: #00af00\">10</span>, <span style=\"color: #00af00; text-decoration-color: #00af00\">32</span>)         │         <span style=\"color: #00af00; text-decoration-color: #00af00\">6,176</span> │\n",
       "├─────────────────────────────────┼────────────────────────┼───────────────┤\n",
       "│ dropout (<span style=\"color: #0087ff; text-decoration-color: #0087ff\">Dropout</span>)               │ (<span style=\"color: #00d7ff; text-decoration-color: #00d7ff\">None</span>, <span style=\"color: #00af00; text-decoration-color: #00af00\">10</span>, <span style=\"color: #00af00; text-decoration-color: #00af00\">32</span>)         │             <span style=\"color: #00af00; text-decoration-color: #00af00\">0</span> │\n",
       "├─────────────────────────────────┼────────────────────────┼───────────────┤\n",
       "│ flatten (<span style=\"color: #0087ff; text-decoration-color: #0087ff\">Flatten</span>)               │ (<span style=\"color: #00d7ff; text-decoration-color: #00d7ff\">None</span>, <span style=\"color: #00af00; text-decoration-color: #00af00\">320</span>)            │             <span style=\"color: #00af00; text-decoration-color: #00af00\">0</span> │\n",
       "├─────────────────────────────────┼────────────────────────┼───────────────┤\n",
       "│ dense (<span style=\"color: #0087ff; text-decoration-color: #0087ff\">Dense</span>)                   │ (<span style=\"color: #00d7ff; text-decoration-color: #00d7ff\">None</span>, <span style=\"color: #00af00; text-decoration-color: #00af00\">1</span>)              │           <span style=\"color: #00af00; text-decoration-color: #00af00\">321</span> │\n",
       "└─────────────────────────────────┴────────────────────────┴───────────────┘\n",
       "</pre>\n"
      ],
      "text/plain": [
       "┏━━━━━━━━━━━━━━━━━━━━━━━━━━━━━━━━━┳━━━━━━━━━━━━━━━━━━━━━━━━┳━━━━━━━━━━━━━━━┓\n",
       "┃\u001b[1m \u001b[0m\u001b[1mLayer (type)                   \u001b[0m\u001b[1m \u001b[0m┃\u001b[1m \u001b[0m\u001b[1mOutput Shape          \u001b[0m\u001b[1m \u001b[0m┃\u001b[1m \u001b[0m\u001b[1m      Param #\u001b[0m\u001b[1m \u001b[0m┃\n",
       "┡━━━━━━━━━━━━━━━━━━━━━━━━━━━━━━━━━╇━━━━━━━━━━━━━━━━━━━━━━━━╇━━━━━━━━━━━━━━━┩\n",
       "│ conv1d (\u001b[38;5;33mConv1D\u001b[0m)                 │ (\u001b[38;5;45mNone\u001b[0m, \u001b[38;5;34m12\u001b[0m, \u001b[38;5;34m64\u001b[0m)         │         \u001b[38;5;34m1,024\u001b[0m │\n",
       "├─────────────────────────────────┼────────────────────────┼───────────────┤\n",
       "│ conv1d_1 (\u001b[38;5;33mConv1D\u001b[0m)               │ (\u001b[38;5;45mNone\u001b[0m, \u001b[38;5;34m10\u001b[0m, \u001b[38;5;34m32\u001b[0m)         │         \u001b[38;5;34m6,176\u001b[0m │\n",
       "├─────────────────────────────────┼────────────────────────┼───────────────┤\n",
       "│ dropout (\u001b[38;5;33mDropout\u001b[0m)               │ (\u001b[38;5;45mNone\u001b[0m, \u001b[38;5;34m10\u001b[0m, \u001b[38;5;34m32\u001b[0m)         │             \u001b[38;5;34m0\u001b[0m │\n",
       "├─────────────────────────────────┼────────────────────────┼───────────────┤\n",
       "│ flatten (\u001b[38;5;33mFlatten\u001b[0m)               │ (\u001b[38;5;45mNone\u001b[0m, \u001b[38;5;34m320\u001b[0m)            │             \u001b[38;5;34m0\u001b[0m │\n",
       "├─────────────────────────────────┼────────────────────────┼───────────────┤\n",
       "│ dense (\u001b[38;5;33mDense\u001b[0m)                   │ (\u001b[38;5;45mNone\u001b[0m, \u001b[38;5;34m1\u001b[0m)              │           \u001b[38;5;34m321\u001b[0m │\n",
       "└─────────────────────────────────┴────────────────────────┴───────────────┘\n"
      ]
     },
     "metadata": {},
     "output_type": "display_data"
    },
    {
     "data": {
      "text/html": [
       "<pre style=\"white-space:pre;overflow-x:auto;line-height:normal;font-family:Menlo,'DejaVu Sans Mono',consolas,'Courier New',monospace\"><span style=\"font-weight: bold\"> Total params: </span><span style=\"color: #00af00; text-decoration-color: #00af00\">7,521</span> (29.38 KB)\n",
       "</pre>\n"
      ],
      "text/plain": [
       "\u001b[1m Total params: \u001b[0m\u001b[38;5;34m7,521\u001b[0m (29.38 KB)\n"
      ]
     },
     "metadata": {},
     "output_type": "display_data"
    },
    {
     "data": {
      "text/html": [
       "<pre style=\"white-space:pre;overflow-x:auto;line-height:normal;font-family:Menlo,'DejaVu Sans Mono',consolas,'Courier New',monospace\"><span style=\"font-weight: bold\"> Trainable params: </span><span style=\"color: #00af00; text-decoration-color: #00af00\">7,521</span> (29.38 KB)\n",
       "</pre>\n"
      ],
      "text/plain": [
       "\u001b[1m Trainable params: \u001b[0m\u001b[38;5;34m7,521\u001b[0m (29.38 KB)\n"
      ]
     },
     "metadata": {},
     "output_type": "display_data"
    },
    {
     "data": {
      "text/html": [
       "<pre style=\"white-space:pre;overflow-x:auto;line-height:normal;font-family:Menlo,'DejaVu Sans Mono',consolas,'Courier New',monospace\"><span style=\"font-weight: bold\"> Non-trainable params: </span><span style=\"color: #00af00; text-decoration-color: #00af00\">0</span> (0.00 B)\n",
       "</pre>\n"
      ],
      "text/plain": [
       "\u001b[1m Non-trainable params: \u001b[0m\u001b[38;5;34m0\u001b[0m (0.00 B)\n"
      ]
     },
     "metadata": {},
     "output_type": "display_data"
    }
   ],
   "source": [
    "# Define the autoencoder model\n",
    "model = Sequential()\n",
    "\n",
    "model.add(\n",
    "    Conv1D(\n",
    "        filters=64,\n",
    "        kernel_size=3,\n",
    "        activation='relu',\n",
    "        input_shape=(X_train.shape[1], X_train.shape[2])\n",
    "    )\n",
    ")\n",
    "\n",
    "model.add(\n",
    "    Conv1D(\n",
    "        filters=32,\n",
    "        kernel_size=3,\n",
    "        activation='relu'\n",
    "    )\n",
    ")\n",
    "\n",
    "# model.add(MaxPooling1D(pool_size=2))\n",
    "\n",
    "model.add(Dropout(0.2))\n",
    "\n",
    "# model.add(Bidirectional(LSTM(32, return_sequences=False)))\n",
    "\n",
    "model.add(Flatten())\n",
    "\n",
    "model.add(Dense(y_train.shape[1]))\n",
    "\n",
    "model.compile(optimizer='adam', loss='mse')\n",
    "model.summary()"
   ]
  },
  {
   "cell_type": "markdown",
   "id": "ebbc313e",
   "metadata": {},
   "source": [
    "Train the LSTM model on the prepared data:\n",
    "\n",
    "- `X_train` and `y_train` are the input and target sequences.\n",
    "- `epochs=50`: The model will go through the entire dataset 50 times.\n",
    "- `batch_size=32`: Number of samples processed before updating the model’s weights.\n",
    "- `validation_split=0.1`: 10% of the data is used to evaluate the model during training.\n",
    "- `verbose=1`: Displays the training progress for each epoch.\n"
   ]
  },
  {
   "cell_type": "code",
   "execution_count": 9,
   "id": "77a5880e",
   "metadata": {},
   "outputs": [
    {
     "name": "stdout",
     "output_type": "stream",
     "text": [
      "Epoch 1/100\n",
      "\u001b[1m76/76\u001b[0m \u001b[32m━━━━━━━━━━━━━━━━━━━━\u001b[0m\u001b[37m\u001b[0m \u001b[1m1s\u001b[0m 2ms/step - loss: 0.0996 - val_loss: 0.0565\n",
      "Epoch 2/100\n",
      "\u001b[1m76/76\u001b[0m \u001b[32m━━━━━━━━━━━━━━━━━━━━\u001b[0m\u001b[37m\u001b[0m \u001b[1m0s\u001b[0m 885us/step - loss: 0.0143 - val_loss: 0.0358\n",
      "Epoch 3/100\n",
      "\u001b[1m76/76\u001b[0m \u001b[32m━━━━━━━━━━━━━━━━━━━━\u001b[0m\u001b[37m\u001b[0m \u001b[1m0s\u001b[0m 858us/step - loss: 0.0109 - val_loss: 0.0985\n",
      "Epoch 4/100\n",
      "\u001b[1m76/76\u001b[0m \u001b[32m━━━━━━━━━━━━━━━━━━━━\u001b[0m\u001b[37m\u001b[0m \u001b[1m0s\u001b[0m 879us/step - loss: 0.0095 - val_loss: 0.4437\n",
      "Epoch 5/100\n",
      "\u001b[1m76/76\u001b[0m \u001b[32m━━━━━━━━━━━━━━━━━━━━\u001b[0m\u001b[37m\u001b[0m \u001b[1m0s\u001b[0m 875us/step - loss: 0.0116 - val_loss: 0.0320\n",
      "Epoch 6/100\n",
      "\u001b[1m76/76\u001b[0m \u001b[32m━━━━━━━━━━━━━━━━━━━━\u001b[0m\u001b[37m\u001b[0m \u001b[1m0s\u001b[0m 934us/step - loss: 0.0065 - val_loss: 0.0522\n",
      "Epoch 7/100\n",
      "\u001b[1m76/76\u001b[0m \u001b[32m━━━━━━━━━━━━━━━━━━━━\u001b[0m\u001b[37m\u001b[0m \u001b[1m0s\u001b[0m 973us/step - loss: 0.0081 - val_loss: 0.1068\n",
      "Epoch 8/100\n",
      "\u001b[1m76/76\u001b[0m \u001b[32m━━━━━━━━━━━━━━━━━━━━\u001b[0m\u001b[37m\u001b[0m \u001b[1m0s\u001b[0m 877us/step - loss: 0.0051 - val_loss: 0.0489\n",
      "Epoch 9/100\n",
      "\u001b[1m76/76\u001b[0m \u001b[32m━━━━━━━━━━━━━━━━━━━━\u001b[0m\u001b[37m\u001b[0m \u001b[1m0s\u001b[0m 862us/step - loss: 0.0052 - val_loss: 0.2184\n",
      "Epoch 10/100\n",
      "\u001b[1m76/76\u001b[0m \u001b[32m━━━━━━━━━━━━━━━━━━━━\u001b[0m\u001b[37m\u001b[0m \u001b[1m0s\u001b[0m 902us/step - loss: 0.0059 - val_loss: 0.1355\n",
      "Epoch 11/100\n",
      "\u001b[1m76/76\u001b[0m \u001b[32m━━━━━━━━━━━━━━━━━━━━\u001b[0m\u001b[37m\u001b[0m \u001b[1m0s\u001b[0m 2ms/step - loss: 0.0055 - val_loss: 0.0547\n",
      "Epoch 12/100\n",
      "\u001b[1m76/76\u001b[0m \u001b[32m━━━━━━━━━━━━━━━━━━━━\u001b[0m\u001b[37m\u001b[0m \u001b[1m0s\u001b[0m 969us/step - loss: 0.0056 - val_loss: 0.0251\n",
      "Epoch 13/100\n",
      "\u001b[1m76/76\u001b[0m \u001b[32m━━━━━━━━━━━━━━━━━━━━\u001b[0m\u001b[37m\u001b[0m \u001b[1m0s\u001b[0m 981us/step - loss: 0.0074 - val_loss: 0.0388\n",
      "Epoch 14/100\n",
      "\u001b[1m76/76\u001b[0m \u001b[32m━━━━━━━━━━━━━━━━━━━━\u001b[0m\u001b[37m\u001b[0m \u001b[1m0s\u001b[0m 983us/step - loss: 0.0074 - val_loss: 0.1057\n",
      "Epoch 15/100\n",
      "\u001b[1m76/76\u001b[0m \u001b[32m━━━━━━━━━━━━━━━━━━━━\u001b[0m\u001b[37m\u001b[0m \u001b[1m0s\u001b[0m 1ms/step - loss: 0.0055 - val_loss: 0.0261\n",
      "Epoch 16/100\n",
      "\u001b[1m76/76\u001b[0m \u001b[32m━━━━━━━━━━━━━━━━━━━━\u001b[0m\u001b[37m\u001b[0m \u001b[1m0s\u001b[0m 939us/step - loss: 0.0057 - val_loss: 0.0428\n",
      "Epoch 17/100\n",
      "\u001b[1m76/76\u001b[0m \u001b[32m━━━━━━━━━━━━━━━━━━━━\u001b[0m\u001b[37m\u001b[0m \u001b[1m0s\u001b[0m 877us/step - loss: 0.0044 - val_loss: 0.0504\n",
      "Epoch 18/100\n",
      "\u001b[1m76/76\u001b[0m \u001b[32m━━━━━━━━━━━━━━━━━━━━\u001b[0m\u001b[37m\u001b[0m \u001b[1m0s\u001b[0m 898us/step - loss: 0.0045 - val_loss: 0.0224\n",
      "Epoch 19/100\n",
      "\u001b[1m76/76\u001b[0m \u001b[32m━━━━━━━━━━━━━━━━━━━━\u001b[0m\u001b[37m\u001b[0m \u001b[1m0s\u001b[0m 876us/step - loss: 0.0047 - val_loss: 0.0232\n",
      "Epoch 20/100\n",
      "\u001b[1m76/76\u001b[0m \u001b[32m━━━━━━━━━━━━━━━━━━━━\u001b[0m\u001b[37m\u001b[0m \u001b[1m0s\u001b[0m 847us/step - loss: 0.0036 - val_loss: 0.0232\n",
      "Epoch 21/100\n",
      "\u001b[1m76/76\u001b[0m \u001b[32m━━━━━━━━━━━━━━━━━━━━\u001b[0m\u001b[37m\u001b[0m \u001b[1m0s\u001b[0m 2ms/step - loss: 0.0042 - val_loss: 0.0594\n",
      "Epoch 22/100\n",
      "\u001b[1m76/76\u001b[0m \u001b[32m━━━━━━━━━━━━━━━━━━━━\u001b[0m\u001b[37m\u001b[0m \u001b[1m0s\u001b[0m 872us/step - loss: 0.0036 - val_loss: 0.0281\n",
      "Epoch 23/100\n",
      "\u001b[1m76/76\u001b[0m \u001b[32m━━━━━━━━━━━━━━━━━━━━\u001b[0m\u001b[37m\u001b[0m \u001b[1m0s\u001b[0m 885us/step - loss: 0.0033 - val_loss: 0.0244\n",
      "Epoch 24/100\n",
      "\u001b[1m76/76\u001b[0m \u001b[32m━━━━━━━━━━━━━━━━━━━━\u001b[0m\u001b[37m\u001b[0m \u001b[1m0s\u001b[0m 864us/step - loss: 0.0044 - val_loss: 0.0328\n",
      "Epoch 25/100\n",
      "\u001b[1m76/76\u001b[0m \u001b[32m━━━━━━━━━━━━━━━━━━━━\u001b[0m\u001b[37m\u001b[0m \u001b[1m0s\u001b[0m 861us/step - loss: 0.0028 - val_loss: 0.0406\n",
      "Epoch 26/100\n",
      "\u001b[1m76/76\u001b[0m \u001b[32m━━━━━━━━━━━━━━━━━━━━\u001b[0m\u001b[37m\u001b[0m \u001b[1m0s\u001b[0m 860us/step - loss: 0.0029 - val_loss: 0.0292\n",
      "Epoch 27/100\n",
      "\u001b[1m76/76\u001b[0m \u001b[32m━━━━━━━━━━━━━━━━━━━━\u001b[0m\u001b[37m\u001b[0m \u001b[1m0s\u001b[0m 856us/step - loss: 0.0035 - val_loss: 0.0747\n",
      "Epoch 28/100\n",
      "\u001b[1m76/76\u001b[0m \u001b[32m━━━━━━━━━━━━━━━━━━━━\u001b[0m\u001b[37m\u001b[0m \u001b[1m0s\u001b[0m 1ms/step - loss: 0.0031 - val_loss: 0.0163\n",
      "Epoch 29/100\n",
      "\u001b[1m76/76\u001b[0m \u001b[32m━━━━━━━━━━━━━━━━━━━━\u001b[0m\u001b[37m\u001b[0m \u001b[1m0s\u001b[0m 886us/step - loss: 0.0035 - val_loss: 0.0172\n",
      "Epoch 30/100\n",
      "\u001b[1m76/76\u001b[0m \u001b[32m━━━━━━━━━━━━━━━━━━━━\u001b[0m\u001b[37m\u001b[0m \u001b[1m0s\u001b[0m 853us/step - loss: 0.0031 - val_loss: 0.0181\n",
      "Epoch 31/100\n",
      "\u001b[1m76/76\u001b[0m \u001b[32m━━━━━━━━━━━━━━━━━━━━\u001b[0m\u001b[37m\u001b[0m \u001b[1m0s\u001b[0m 879us/step - loss: 0.0047 - val_loss: 0.1179\n",
      "Epoch 32/100\n",
      "\u001b[1m76/76\u001b[0m \u001b[32m━━━━━━━━━━━━━━━━━━━━\u001b[0m\u001b[37m\u001b[0m \u001b[1m0s\u001b[0m 875us/step - loss: 0.0041 - val_loss: 0.0563\n",
      "Epoch 33/100\n",
      "\u001b[1m76/76\u001b[0m \u001b[32m━━━━━━━━━━━━━━━━━━━━\u001b[0m\u001b[37m\u001b[0m \u001b[1m0s\u001b[0m 877us/step - loss: 0.0035 - val_loss: 0.1754\n",
      "Epoch 34/100\n",
      "\u001b[1m76/76\u001b[0m \u001b[32m━━━━━━━━━━━━━━━━━━━━\u001b[0m\u001b[37m\u001b[0m \u001b[1m0s\u001b[0m 882us/step - loss: 0.0039 - val_loss: 0.0210\n",
      "Epoch 35/100\n",
      "\u001b[1m76/76\u001b[0m \u001b[32m━━━━━━━━━━━━━━━━━━━━\u001b[0m\u001b[37m\u001b[0m \u001b[1m0s\u001b[0m 863us/step - loss: 0.0042 - val_loss: 0.0284\n",
      "Epoch 36/100\n",
      "\u001b[1m76/76\u001b[0m \u001b[32m━━━━━━━━━━━━━━━━━━━━\u001b[0m\u001b[37m\u001b[0m \u001b[1m0s\u001b[0m 901us/step - loss: 0.0045 - val_loss: 0.0245\n",
      "Epoch 37/100\n",
      "\u001b[1m76/76\u001b[0m \u001b[32m━━━━━━━━━━━━━━━━━━━━\u001b[0m\u001b[37m\u001b[0m \u001b[1m0s\u001b[0m 858us/step - loss: 0.0022 - val_loss: 0.0208\n",
      "Epoch 38/100\n",
      "\u001b[1m76/76\u001b[0m \u001b[32m━━━━━━━━━━━━━━━━━━━━\u001b[0m\u001b[37m\u001b[0m \u001b[1m0s\u001b[0m 865us/step - loss: 0.0028 - val_loss: 0.0206\n",
      "Epoch 39/100\n",
      "\u001b[1m76/76\u001b[0m \u001b[32m━━━━━━━━━━━━━━━━━━━━\u001b[0m\u001b[37m\u001b[0m \u001b[1m0s\u001b[0m 912us/step - loss: 0.0026 - val_loss: 0.1091\n",
      "Epoch 40/100\n",
      "\u001b[1m76/76\u001b[0m \u001b[32m━━━━━━━━━━━━━━━━━━━━\u001b[0m\u001b[37m\u001b[0m \u001b[1m0s\u001b[0m 868us/step - loss: 0.0031 - val_loss: 0.0309\n",
      "Epoch 41/100\n",
      "\u001b[1m76/76\u001b[0m \u001b[32m━━━━━━━━━━━━━━━━━━━━\u001b[0m\u001b[37m\u001b[0m \u001b[1m0s\u001b[0m 864us/step - loss: 0.0021 - val_loss: 0.0138\n",
      "Epoch 42/100\n",
      "\u001b[1m76/76\u001b[0m \u001b[32m━━━━━━━━━━━━━━━━━━━━\u001b[0m\u001b[37m\u001b[0m \u001b[1m0s\u001b[0m 872us/step - loss: 0.0026 - val_loss: 0.0675\n",
      "Epoch 43/100\n",
      "\u001b[1m76/76\u001b[0m \u001b[32m━━━━━━━━━━━━━━━━━━━━\u001b[0m\u001b[37m\u001b[0m \u001b[1m0s\u001b[0m 903us/step - loss: 0.0032 - val_loss: 0.0145\n",
      "Epoch 44/100\n",
      "\u001b[1m76/76\u001b[0m \u001b[32m━━━━━━━━━━━━━━━━━━━━\u001b[0m\u001b[37m\u001b[0m \u001b[1m0s\u001b[0m 867us/step - loss: 0.0027 - val_loss: 0.0226\n",
      "Epoch 45/100\n",
      "\u001b[1m76/76\u001b[0m \u001b[32m━━━━━━━━━━━━━━━━━━━━\u001b[0m\u001b[37m\u001b[0m \u001b[1m0s\u001b[0m 895us/step - loss: 0.0022 - val_loss: 0.0132\n",
      "Epoch 46/100\n",
      "\u001b[1m76/76\u001b[0m \u001b[32m━━━━━━━━━━━━━━━━━━━━\u001b[0m\u001b[37m\u001b[0m \u001b[1m0s\u001b[0m 865us/step - loss: 0.0030 - val_loss: 0.0704\n",
      "Epoch 47/100\n",
      "\u001b[1m76/76\u001b[0m \u001b[32m━━━━━━━━━━━━━━━━━━━━\u001b[0m\u001b[37m\u001b[0m \u001b[1m0s\u001b[0m 917us/step - loss: 0.0028 - val_loss: 0.0141\n",
      "Epoch 48/100\n",
      "\u001b[1m76/76\u001b[0m \u001b[32m━━━━━━━━━━━━━━━━━━━━\u001b[0m\u001b[37m\u001b[0m \u001b[1m0s\u001b[0m 952us/step - loss: 0.0028 - val_loss: 0.0161\n",
      "Epoch 49/100\n",
      "\u001b[1m76/76\u001b[0m \u001b[32m━━━━━━━━━━━━━━━━━━━━\u001b[0m\u001b[37m\u001b[0m \u001b[1m0s\u001b[0m 934us/step - loss: 0.0023 - val_loss: 0.1768\n",
      "Epoch 50/100\n",
      "\u001b[1m76/76\u001b[0m \u001b[32m━━━━━━━━━━━━━━━━━━━━\u001b[0m\u001b[37m\u001b[0m \u001b[1m0s\u001b[0m 1ms/step - loss: 0.0022 - val_loss: 0.0448\n",
      "Epoch 51/100\n",
      "\u001b[1m76/76\u001b[0m \u001b[32m━━━━━━━━━━━━━━━━━━━━\u001b[0m\u001b[37m\u001b[0m \u001b[1m0s\u001b[0m 2ms/step - loss: 0.0023 - val_loss: 0.1683\n",
      "Epoch 52/100\n",
      "\u001b[1m76/76\u001b[0m \u001b[32m━━━━━━━━━━━━━━━━━━━━\u001b[0m\u001b[37m\u001b[0m \u001b[1m0s\u001b[0m 998us/step - loss: 0.0031 - val_loss: 0.0130\n",
      "Epoch 53/100\n",
      "\u001b[1m76/76\u001b[0m \u001b[32m━━━━━━━━━━━━━━━━━━━━\u001b[0m\u001b[37m\u001b[0m \u001b[1m0s\u001b[0m 974us/step - loss: 0.0024 - val_loss: 0.0376\n",
      "Epoch 54/100\n",
      "\u001b[1m76/76\u001b[0m \u001b[32m━━━━━━━━━━━━━━━━━━━━\u001b[0m\u001b[37m\u001b[0m \u001b[1m0s\u001b[0m 991us/step - loss: 0.0024 - val_loss: 0.0123\n",
      "Epoch 55/100\n",
      "\u001b[1m76/76\u001b[0m \u001b[32m━━━━━━━━━━━━━━━━━━━━\u001b[0m\u001b[37m\u001b[0m \u001b[1m0s\u001b[0m 928us/step - loss: 0.0024 - val_loss: 0.0551\n",
      "Epoch 56/100\n",
      "\u001b[1m76/76\u001b[0m \u001b[32m━━━━━━━━━━━━━━━━━━━━\u001b[0m\u001b[37m\u001b[0m \u001b[1m0s\u001b[0m 919us/step - loss: 0.0031 - val_loss: 0.0122\n",
      "Epoch 57/100\n",
      "\u001b[1m76/76\u001b[0m \u001b[32m━━━━━━━━━━━━━━━━━━━━\u001b[0m\u001b[37m\u001b[0m \u001b[1m0s\u001b[0m 979us/step - loss: 0.0022 - val_loss: 0.0145\n",
      "Epoch 58/100\n",
      "\u001b[1m76/76\u001b[0m \u001b[32m━━━━━━━━━━━━━━━━━━━━\u001b[0m\u001b[37m\u001b[0m \u001b[1m0s\u001b[0m 985us/step - loss: 0.0025 - val_loss: 0.0271\n",
      "Epoch 59/100\n",
      "\u001b[1m76/76\u001b[0m \u001b[32m━━━━━━━━━━━━━━━━━━━━\u001b[0m\u001b[37m\u001b[0m \u001b[1m0s\u001b[0m 1ms/step - loss: 0.0033 - val_loss: 0.0750\n",
      "Epoch 60/100\n",
      "\u001b[1m76/76\u001b[0m \u001b[32m━━━━━━━━━━━━━━━━━━━━\u001b[0m\u001b[37m\u001b[0m \u001b[1m0s\u001b[0m 961us/step - loss: 0.0039 - val_loss: 0.0117\n",
      "Epoch 61/100\n",
      "\u001b[1m76/76\u001b[0m \u001b[32m━━━━━━━━━━━━━━━━━━━━\u001b[0m\u001b[37m\u001b[0m \u001b[1m0s\u001b[0m 995us/step - loss: 0.0033 - val_loss: 0.0188\n",
      "Epoch 62/100\n",
      "\u001b[1m76/76\u001b[0m \u001b[32m━━━━━━━━━━━━━━━━━━━━\u001b[0m\u001b[37m\u001b[0m \u001b[1m0s\u001b[0m 2ms/step - loss: 0.0029 - val_loss: 0.0123\n",
      "Epoch 63/100\n",
      "\u001b[1m76/76\u001b[0m \u001b[32m━━━━━━━━━━━━━━━━━━━━\u001b[0m\u001b[37m\u001b[0m \u001b[1m0s\u001b[0m 896us/step - loss: 0.0025 - val_loss: 0.0802\n",
      "Epoch 64/100\n",
      "\u001b[1m76/76\u001b[0m \u001b[32m━━━━━━━━━━━━━━━━━━━━\u001b[0m\u001b[37m\u001b[0m \u001b[1m0s\u001b[0m 1ms/step - loss: 0.0023 - val_loss: 0.0105\n",
      "Epoch 65/100\n",
      "\u001b[1m76/76\u001b[0m \u001b[32m━━━━━━━━━━━━━━━━━━━━\u001b[0m\u001b[37m\u001b[0m \u001b[1m0s\u001b[0m 1ms/step - loss: 0.0026 - val_loss: 0.0149\n",
      "Epoch 66/100\n",
      "\u001b[1m76/76\u001b[0m \u001b[32m━━━━━━━━━━━━━━━━━━━━\u001b[0m\u001b[37m\u001b[0m \u001b[1m0s\u001b[0m 999us/step - loss: 0.0026 - val_loss: 0.0106\n",
      "Epoch 67/100\n",
      "\u001b[1m76/76\u001b[0m \u001b[32m━━━━━━━━━━━━━━━━━━━━\u001b[0m\u001b[37m\u001b[0m \u001b[1m0s\u001b[0m 1ms/step - loss: 0.0030 - val_loss: 0.0514\n",
      "Epoch 68/100\n",
      "\u001b[1m76/76\u001b[0m \u001b[32m━━━━━━━━━━━━━━━━━━━━\u001b[0m\u001b[37m\u001b[0m \u001b[1m0s\u001b[0m 975us/step - loss: 0.0021 - val_loss: 0.0115\n",
      "Epoch 69/100\n",
      "\u001b[1m76/76\u001b[0m \u001b[32m━━━━━━━━━━━━━━━━━━━━\u001b[0m\u001b[37m\u001b[0m \u001b[1m0s\u001b[0m 1ms/step - loss: 0.0031 - val_loss: 0.0101\n",
      "Epoch 70/100\n",
      "\u001b[1m76/76\u001b[0m \u001b[32m━━━━━━━━━━━━━━━━━━━━\u001b[0m\u001b[37m\u001b[0m \u001b[1m0s\u001b[0m 954us/step - loss: 0.0023 - val_loss: 0.0160\n",
      "Epoch 71/100\n",
      "\u001b[1m76/76\u001b[0m \u001b[32m━━━━━━━━━━━━━━━━━━━━\u001b[0m\u001b[37m\u001b[0m \u001b[1m0s\u001b[0m 957us/step - loss: 0.0019 - val_loss: 0.1176\n",
      "Epoch 72/100\n",
      "\u001b[1m76/76\u001b[0m \u001b[32m━━━━━━━━━━━━━━━━━━━━\u001b[0m\u001b[37m\u001b[0m \u001b[1m0s\u001b[0m 912us/step - loss: 0.0025 - val_loss: 0.0719\n",
      "Epoch 73/100\n",
      "\u001b[1m76/76\u001b[0m \u001b[32m━━━━━━━━━━━━━━━━━━━━\u001b[0m\u001b[37m\u001b[0m \u001b[1m0s\u001b[0m 907us/step - loss: 0.0027 - val_loss: 0.0662\n",
      "Epoch 74/100\n",
      "\u001b[1m76/76\u001b[0m \u001b[32m━━━━━━━━━━━━━━━━━━━━\u001b[0m\u001b[37m\u001b[0m \u001b[1m0s\u001b[0m 858us/step - loss: 0.0020 - val_loss: 0.0151\n",
      "Epoch 75/100\n",
      "\u001b[1m76/76\u001b[0m \u001b[32m━━━━━━━━━━━━━━━━━━━━\u001b[0m\u001b[37m\u001b[0m \u001b[1m0s\u001b[0m 863us/step - loss: 0.0023 - val_loss: 0.0147\n",
      "Epoch 76/100\n",
      "\u001b[1m76/76\u001b[0m \u001b[32m━━━━━━━━━━━━━━━━━━━━\u001b[0m\u001b[37m\u001b[0m \u001b[1m0s\u001b[0m 869us/step - loss: 0.0022 - val_loss: 0.0797\n",
      "Epoch 77/100\n",
      "\u001b[1m76/76\u001b[0m \u001b[32m━━━━━━━━━━━━━━━━━━━━\u001b[0m\u001b[37m\u001b[0m \u001b[1m0s\u001b[0m 884us/step - loss: 0.0019 - val_loss: 0.0179\n",
      "Epoch 78/100\n",
      "\u001b[1m76/76\u001b[0m \u001b[32m━━━━━━━━━━━━━━━━━━━━\u001b[0m\u001b[37m\u001b[0m \u001b[1m0s\u001b[0m 871us/step - loss: 0.0036 - val_loss: 0.0231\n",
      "Epoch 79/100\n",
      "\u001b[1m76/76\u001b[0m \u001b[32m━━━━━━━━━━━━━━━━━━━━\u001b[0m\u001b[37m\u001b[0m \u001b[1m0s\u001b[0m 847us/step - loss: 0.0017 - val_loss: 0.0090\n",
      "Epoch 80/100\n",
      "\u001b[1m76/76\u001b[0m \u001b[32m━━━━━━━━━━━━━━━━━━━━\u001b[0m\u001b[37m\u001b[0m \u001b[1m0s\u001b[0m 875us/step - loss: 0.0028 - val_loss: 0.0115\n",
      "Epoch 81/100\n",
      "\u001b[1m76/76\u001b[0m \u001b[32m━━━━━━━━━━━━━━━━━━━━\u001b[0m\u001b[37m\u001b[0m \u001b[1m0s\u001b[0m 894us/step - loss: 0.0024 - val_loss: 0.0258\n",
      "Epoch 82/100\n",
      "\u001b[1m76/76\u001b[0m \u001b[32m━━━━━━━━━━━━━━━━━━━━\u001b[0m\u001b[37m\u001b[0m \u001b[1m0s\u001b[0m 915us/step - loss: 0.0023 - val_loss: 0.0150\n",
      "Epoch 83/100\n",
      "\u001b[1m76/76\u001b[0m \u001b[32m━━━━━━━━━━━━━━━━━━━━\u001b[0m\u001b[37m\u001b[0m \u001b[1m0s\u001b[0m 982us/step - loss: 0.0019 - val_loss: 0.0374\n",
      "Epoch 84/100\n",
      "\u001b[1m76/76\u001b[0m \u001b[32m━━━━━━━━━━━━━━━━━━━━\u001b[0m\u001b[37m\u001b[0m \u001b[1m0s\u001b[0m 928us/step - loss: 0.0026 - val_loss: 0.0151\n",
      "Epoch 85/100\n",
      "\u001b[1m76/76\u001b[0m \u001b[32m━━━━━━━━━━━━━━━━━━━━\u001b[0m\u001b[37m\u001b[0m \u001b[1m0s\u001b[0m 930us/step - loss: 0.0018 - val_loss: 0.0310\n",
      "Epoch 86/100\n",
      "\u001b[1m76/76\u001b[0m \u001b[32m━━━━━━━━━━━━━━━━━━━━\u001b[0m\u001b[37m\u001b[0m \u001b[1m0s\u001b[0m 910us/step - loss: 0.0025 - val_loss: 0.0138\n",
      "Epoch 87/100\n",
      "\u001b[1m76/76\u001b[0m \u001b[32m━━━━━━━━━━━━━━━━━━━━\u001b[0m\u001b[37m\u001b[0m \u001b[1m0s\u001b[0m 939us/step - loss: 0.0020 - val_loss: 0.0097\n",
      "Epoch 88/100\n",
      "\u001b[1m76/76\u001b[0m \u001b[32m━━━━━━━━━━━━━━━━━━━━\u001b[0m\u001b[37m\u001b[0m \u001b[1m0s\u001b[0m 901us/step - loss: 0.0022 - val_loss: 0.0149\n",
      "Epoch 89/100\n",
      "\u001b[1m76/76\u001b[0m \u001b[32m━━━━━━━━━━━━━━━━━━━━\u001b[0m\u001b[37m\u001b[0m \u001b[1m0s\u001b[0m 1ms/step - loss: 0.0019 - val_loss: 0.0181\n",
      "Epoch 90/100\n",
      "\u001b[1m76/76\u001b[0m \u001b[32m━━━━━━━━━━━━━━━━━━━━\u001b[0m\u001b[37m\u001b[0m \u001b[1m0s\u001b[0m 881us/step - loss: 0.0023 - val_loss: 0.0769\n",
      "Epoch 91/100\n",
      "\u001b[1m76/76\u001b[0m \u001b[32m━━━━━━━━━━━━━━━━━━━━\u001b[0m\u001b[37m\u001b[0m \u001b[1m0s\u001b[0m 1ms/step - loss: 0.0027 - val_loss: 0.0104\n",
      "Epoch 92/100\n",
      "\u001b[1m76/76\u001b[0m \u001b[32m━━━━━━━━━━━━━━━━━━━━\u001b[0m\u001b[37m\u001b[0m \u001b[1m0s\u001b[0m 925us/step - loss: 0.0020 - val_loss: 0.0751\n",
      "Epoch 93/100\n",
      "\u001b[1m76/76\u001b[0m \u001b[32m━━━━━━━━━━━━━━━━━━━━\u001b[0m\u001b[37m\u001b[0m \u001b[1m0s\u001b[0m 888us/step - loss: 0.0019 - val_loss: 0.0407\n",
      "Epoch 94/100\n",
      "\u001b[1m76/76\u001b[0m \u001b[32m━━━━━━━━━━━━━━━━━━━━\u001b[0m\u001b[37m\u001b[0m \u001b[1m0s\u001b[0m 884us/step - loss: 0.0021 - val_loss: 0.0105\n",
      "Epoch 95/100\n",
      "\u001b[1m76/76\u001b[0m \u001b[32m━━━━━━━━━━━━━━━━━━━━\u001b[0m\u001b[37m\u001b[0m \u001b[1m0s\u001b[0m 1ms/step - loss: 0.0026 - val_loss: 0.0281\n",
      "Epoch 96/100\n",
      "\u001b[1m76/76\u001b[0m \u001b[32m━━━━━━━━━━━━━━━━━━━━\u001b[0m\u001b[37m\u001b[0m \u001b[1m0s\u001b[0m 4ms/step - loss: 0.0023 - val_loss: 0.0089\n",
      "Epoch 97/100\n",
      "\u001b[1m76/76\u001b[0m \u001b[32m━━━━━━━━━━━━━━━━━━━━\u001b[0m\u001b[37m\u001b[0m \u001b[1m0s\u001b[0m 1ms/step - loss: 0.0023 - val_loss: 0.0132\n",
      "Epoch 98/100\n",
      "\u001b[1m76/76\u001b[0m \u001b[32m━━━━━━━━━━━━━━━━━━━━\u001b[0m\u001b[37m\u001b[0m \u001b[1m0s\u001b[0m 1ms/step - loss: 0.0019 - val_loss: 0.0179\n",
      "Epoch 99/100\n",
      "\u001b[1m76/76\u001b[0m \u001b[32m━━━━━━━━━━━━━━━━━━━━\u001b[0m\u001b[37m\u001b[0m \u001b[1m0s\u001b[0m 1ms/step - loss: 0.0018 - val_loss: 0.0458\n",
      "Epoch 100/100\n",
      "\u001b[1m76/76\u001b[0m \u001b[32m━━━━━━━━━━━━━━━━━━━━\u001b[0m\u001b[37m\u001b[0m \u001b[1m0s\u001b[0m 936us/step - loss: 0.0025 - val_loss: 0.0200\n"
     ]
    }
   ],
   "source": [
    "# fit the model\n",
    "history = model.fit(\n",
    "    X_train, y_train,\n",
    "    epochs=100,\n",
    "    batch_size=32,\n",
    "    validation_split=0.1,\n",
    "    verbose=1,\n",
    ")"
   ]
  },
  {
   "cell_type": "code",
   "execution_count": 10,
   "id": "ec24b8da",
   "metadata": {},
   "outputs": [
    {
     "data": {
      "image/png": "[encoded data removed]",
      "text/plain": [
       "<Figure size 640x480 with 1 Axes>"
      ]
     },
     "metadata": {},
     "output_type": "display_data"
    }
   ],
   "source": [
    "plt.plot(history.history['loss'], label='Train Loss')\n",
    "plt.plot(history.history['val_loss'], label='Validation Loss')\n",
    "plt.legend()\n",
    "plt.show()"
   ]
  },
  {
   "cell_type": "markdown",
   "id": "50c06394",
   "metadata": {},
   "source": [
    "Generate the future dates for prediction while considering only US business days:\n",
    "\n",
    "- Import libraries to handle US federal holidays and business days.\n",
    "- `n_past` specifies how many past days we look back for predictions.\n",
    "- `n_days_for_prediction` is the number of future days we want to predict.\n",
    "- `pd.date_range` with `CustomBusinessDay` ensures that the predicted dates skip weekends and US holidays.\n",
    "- `predict_period_dates` contains the list of dates corresponding to the predictions.\n"
   ]
  },
  {
   "cell_type": "code",
   "execution_count": 11,
   "id": "c804df44",
   "metadata": {},
   "outputs": [
    {
     "data": {
      "text/plain": [
       "[Timestamp('2025-09-10 00:00:00', freq='C'),\n",
       " Timestamp('2025-09-11 00:00:00', freq='C'),\n",
       " Timestamp('2025-09-12 00:00:00', freq='C'),\n",
       " Timestamp('2025-09-15 00:00:00', freq='C'),\n",
       " Timestamp('2025-09-16 00:00:00', freq='C'),\n",
       " Timestamp('2025-09-17 00:00:00', freq='C'),\n",
       " Timestamp('2025-09-18 00:00:00', freq='C'),\n",
       " Timestamp('2025-09-19 00:00:00', freq='C'),\n",
       " Timestamp('2025-09-22 00:00:00', freq='C'),\n",
       " Timestamp('2025-09-23 00:00:00', freq='C'),\n",
       " Timestamp('2025-09-24 00:00:00', freq='C'),\n",
       " Timestamp('2025-09-25 00:00:00', freq='C'),\n",
       " Timestamp('2025-09-26 00:00:00', freq='C'),\n",
       " Timestamp('2025-09-29 00:00:00', freq='C')]"
      ]
     },
     "execution_count": 11,
     "metadata": {},
     "output_type": "execute_result"
    }
   ],
   "source": [
    "from pandas.tseries.holiday import USFederalHolidayCalendar\n",
    "from pandas.tseries.offsets import CustomBusinessDay\n",
    "\n",
    "n_past = 15\n",
    "n_days_for_prediction = 14\n",
    "\n",
    "predict_period_dates = pd.date_range(\n",
    "    start=list(train_dates)[-n_past],\n",
    "    periods=n_days_for_prediction,\n",
    "    freq=CustomBusinessDay(calendar=USFederalHolidayCalendar())\n",
    ").tolist()\n",
    "predict_period_dates"
   ]
  },
  {
   "cell_type": "code",
   "execution_count": 12,
   "id": "d9000ea2",
   "metadata": {},
   "outputs": [
    {
     "name": "stdout",
     "output_type": "stream",
     "text": [
      "\u001b[1m1/1\u001b[0m \u001b[32m━━━━━━━━━━━━━━━━━━━━\u001b[0m\u001b[37m\u001b[0m \u001b[1m0s\u001b[0m 29ms/step\n"
     ]
    }
   ],
   "source": [
    "# Make predictions\n",
    "prediction = model.predict(X_train[-n_days_for_prediction:])"
   ]
  },
  {
   "cell_type": "markdown",
   "id": "eef658fd",
   "metadata": {},
   "source": [
    "Rescale the predictions back to the original stock price range:\n",
    "\n",
    "- The scaler was fitted on **5 features**, so inverse transformation expects the same number of columns.\n",
    "- `np.repeat` duplicates the predictions across 5 columns temporarily.\n",
    "- `scaler.inverse_transform` converts the normalized values back to the original scale.\n",
    "- We only keep the first column (the 'Open' price) as our final predicted values (`y_pred_future`).\n"
   ]
  },
  {
   "cell_type": "code",
   "execution_count": 13,
   "id": "89a3e22c",
   "metadata": {},
   "outputs": [
    {
     "data": {
      "text/plain": [
       "array([168.2563 , 171.18466, 170.73285, 170.8465 , 171.6902 , 169.47621,\n",
       "       169.19556, 170.14613, 171.01357, 171.644  , 170.32791, 169.4154 ,\n",
       "       171.51665, 174.70787], dtype=float32)"
      ]
     },
     "execution_count": 13,
     "metadata": {},
     "output_type": "execute_result"
    }
   ],
   "source": [
    "prediction_copies = np.repeat(prediction, df_scaled.shape[1], axis=1)\n",
    "y_pred_future = scaler.inverse_transform(prediction_copies)[:, 0]\n",
    "y_pred_future"
   ]
  },
  {
   "cell_type": "code",
   "execution_count": 14,
   "id": "81f7a8ff",
   "metadata": {},
   "outputs": [
    {
     "data": {
      "text/html": [
       "<div>\n",
       "<style scoped>\n",
       "    .dataframe tbody tr th:only-of-type {\n",
       "        vertical-align: middle;\n",
       "    }\n",
       "\n",
       "    .dataframe tbody tr th {\n",
       "        vertical-align: top;\n",
       "    }\n",
       "\n",
       "    .dataframe thead th {\n",
       "        text-align: right;\n",
       "    }\n",
       "</style>\n",
       "<table border=\"1\" class=\"dataframe\">\n",
       "  <thead>\n",
       "    <tr style=\"text-align: right;\">\n",
       "      <th></th>\n",
       "      <th>Date</th>\n",
       "      <th>Predicted_Open</th>\n",
       "    </tr>\n",
       "  </thead>\n",
       "  <tbody>\n",
       "    <tr>\n",
       "      <th>0</th>\n",
       "      <td>2025-09-10</td>\n",
       "      <td>168.256302</td>\n",
       "    </tr>\n",
       "    <tr>\n",
       "      <th>1</th>\n",
       "      <td>2025-09-11</td>\n",
       "      <td>171.184662</td>\n",
       "    </tr>\n",
       "    <tr>\n",
       "      <th>2</th>\n",
       "      <td>2025-09-12</td>\n",
       "      <td>170.732849</td>\n",
       "    </tr>\n",
       "    <tr>\n",
       "      <th>3</th>\n",
       "      <td>2025-09-15</td>\n",
       "      <td>170.846497</td>\n",
       "    </tr>\n",
       "    <tr>\n",
       "      <th>4</th>\n",
       "      <td>2025-09-16</td>\n",
       "      <td>171.690201</td>\n",
       "    </tr>\n",
       "    <tr>\n",
       "      <th>5</th>\n",
       "      <td>2025-09-17</td>\n",
       "      <td>169.476212</td>\n",
       "    </tr>\n",
       "    <tr>\n",
       "      <th>6</th>\n",
       "      <td>2025-09-18</td>\n",
       "      <td>169.195557</td>\n",
       "    </tr>\n",
       "    <tr>\n",
       "      <th>7</th>\n",
       "      <td>2025-09-19</td>\n",
       "      <td>170.146133</td>\n",
       "    </tr>\n",
       "    <tr>\n",
       "      <th>8</th>\n",
       "      <td>2025-09-22</td>\n",
       "      <td>171.013565</td>\n",
       "    </tr>\n",
       "    <tr>\n",
       "      <th>9</th>\n",
       "      <td>2025-09-23</td>\n",
       "      <td>171.643997</td>\n",
       "    </tr>\n",
       "    <tr>\n",
       "      <th>10</th>\n",
       "      <td>2025-09-24</td>\n",
       "      <td>170.327911</td>\n",
       "    </tr>\n",
       "    <tr>\n",
       "      <th>11</th>\n",
       "      <td>2025-09-25</td>\n",
       "      <td>169.415405</td>\n",
       "    </tr>\n",
       "    <tr>\n",
       "      <th>12</th>\n",
       "      <td>2025-09-26</td>\n",
       "      <td>171.516647</td>\n",
       "    </tr>\n",
       "    <tr>\n",
       "      <th>13</th>\n",
       "      <td>2025-09-29</td>\n",
       "      <td>174.707870</td>\n",
       "    </tr>\n",
       "  </tbody>\n",
       "</table>\n",
       "</div>"
      ],
      "text/plain": [
       "         Date  Predicted_Open\n",
       "0  2025-09-10      168.256302\n",
       "1  2025-09-11      171.184662\n",
       "2  2025-09-12      170.732849\n",
       "3  2025-09-15      170.846497\n",
       "4  2025-09-16      171.690201\n",
       "5  2025-09-17      169.476212\n",
       "6  2025-09-18      169.195557\n",
       "7  2025-09-19      170.146133\n",
       "8  2025-09-22      171.013565\n",
       "9  2025-09-23      171.643997\n",
       "10 2025-09-24      170.327911\n",
       "11 2025-09-25      169.415405\n",
       "12 2025-09-26      171.516647\n",
       "13 2025-09-29      174.707870"
      ]
     },
     "execution_count": 14,
     "metadata": {},
     "output_type": "execute_result"
    }
   ],
   "source": [
    "df_forecast = pd.DataFrame({\n",
    "    'Date': pd.to_datetime(predict_period_dates),\n",
    "    'Predicted_Open': y_pred_future\n",
    "})\n",
    "df_forecast"
   ]
  },
  {
   "cell_type": "code",
   "execution_count": 15,
   "id": "1906e024",
   "metadata": {},
   "outputs": [],
   "source": [
    "# Extracting original 'Open' prices for the forecasted dates for comparison\n",
    "df_original = df.loc[(df['Date'] >= '2025-09-10') & (df['Date'] <= '2025-09-29'), ['Date', 'Open'] ]"
   ]
  },
  {
   "cell_type": "code",
   "execution_count": 16,
   "id": "74f49fb4",
   "metadata": {},
   "outputs": [
    {
     "data": {
      "image/png": "[encoded data removed]",
      "text/plain": [
       "<Figure size 640x480 with 1 Axes>"
      ]
     },
     "metadata": {},
     "output_type": "display_data"
    }
   ],
   "source": [
    "sns.lineplot(data=df_forecast, x='Date', y='Predicted_Open', label='Predicted Open')\n",
    "sns.lineplot(data=df_original, x='Date', y='Open', linewidth=1, label='Original Open')\n",
    "plt.xticks(rotation=45)\n",
    "plt.show()"
   ]
  },
  {
   "cell_type": "code",
   "execution_count": null,
   "id": "cae91a19",
   "metadata": {},
   "outputs": [],
   "source": []
  }
 ],
 "metadata": {
  "kernelspec": {
   "display_name": "base",
   "language": "python",
   "name": "python3"
  },
  "language_info": {
   "codemirror_mode": {
    "name": "ipython",
    "version": 3
   },
   "file_extension": ".py",
   "mimetype": "text/x-python",
   "name": "python",
   "nbconvert_exporter": "python",
   "pygments_lexer": "ipython3",
   "version": "3.11.0"
  }
 },
 "nbformat": 4,
 "nbformat_minor": 5
}
